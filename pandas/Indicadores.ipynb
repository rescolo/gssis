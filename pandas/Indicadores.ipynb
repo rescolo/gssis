{
 "cells": [
  {
   "cell_type": "markdown",
   "metadata": {},
   "source": [
    "# Indicadores Instituto de Física"
   ]
  },
  {
   "cell_type": "markdown",
   "metadata": {},
   "source": [
    "Código de tabla de contenidos en la próxima celda invisible"
   ]
  },
  {
   "cell_type": "markdown",
   "metadata": {},
   "source": [
    "<style>\n",
    "  #menu {\n",
    "    position: fixed;\n",
    "    right: 0;\n",
    "    top: 50%;\n",
    "    width: 15em;\n",
    "    margin: -2.5em 0 0 0;\n",
    "    z-index: 5;\n",
    "    background: hsla(80, 90%, 40%, 0.7);\n",
    "    color: white;\n",
    "    font: Georgia, \"Times New Roman\", Times, serif;\n",
    "    font-weight: normal;\n",
    "    font-size: 100%;\n",
    "    text-align: left;\n",
    "    border: solid hsla(80, 90%, 40%, 0.5);\n",
    "    border-right: none;\n",
    "    padding: 0.5em 0.5em 0.5em 2.5em;\n",
    "    box-shadow: 0 1px 3px black;\n",
    "    border-radius: 3em 0.5em 0.5em 3em;\n",
    "  }\n",
    "  #menu li { margin: 0 }\n",
    "  #menu a { color: inherit }\n",
    "\n",
    "  /* Make menu absolute, not fixed, on IE 5 & 6 */\n",
    "  #menu { position: absolute }\n",
    "  *>#menu { position: fixed }\n",
    "</style>\n",
    "\n",
    "<ol id=menu>\n",
    "    <li><a href=\"#Estudiantes\" target=\"\">Estudiantes</a></li>\n",
    "    <li><a href=\"#Proyectos_vigentes\" target=\"\">Proyectos vigentes</a></li>\n",
    "    <li><a href=\"#Articulos\" target=\"\">Artículos</a></li>\n",
    "    <li><a href=\"#FI\" target=\"\">Factor de impacto</a></li>\n",
    "</ol>"
   ]
  },
  {
   "cell_type": "markdown",
   "metadata": {},
   "source": [
    "### Función de búsqueda"
   ]
  },
  {
   "cell_type": "markdown",
   "metadata": {},
   "source": [
    "Para obtener las claves de las hojas de cálculo de Google, visita la [página de búsqueda de Indicadores](http://gfif.udea.edu.co/gssis/sql_query/search.html): (Seleccione indicador, ponga `*` en la caja de `\"select\"`, pulse el botón de búsqueda y abra el link HTML)."
   ]
  },
  {
   "cell_type": "code",
   "execution_count": 12,
   "metadata": {
    "collapsed": false
   },
   "outputs": [
    {
     "name": "stdout",
     "output_type": "stream",
     "text": [
      "Populating the interactive namespace from numpy and matplotlib\n"
     ]
    },
    {
     "name": "stderr",
     "output_type": "stream",
     "text": [
      "WARNING: pylab import has clobbered these variables: ['f']\n",
      "`%matplotlib` prevents importing * from pylab and numpy\n"
     ]
    }
   ],
   "source": [
    "%pylab inline"
   ]
  },
  {
   "cell_type": "code",
   "execution_count": 1,
   "metadata": {
    "collapsed": false
   },
   "outputs": [
    {
     "data": {
      "text/html": [
       "<div style=\"max-height:1000px;max-width:1500px;overflow:auto;\">\n",
       "<table border=\"1\" class=\"dataframe\">\n",
       "  <thead>\n",
       "    <tr style=\"text-align: right;\">\n",
       "      <th></th>\n",
       "      <th>ESTUDIANTE</th>\n",
       "      <th>Fecha de ingreso</th>\n",
       "      <th>Fecha de graduación</th>\n",
       "      <th>Estado</th>\n",
       "      <th>ASESOR</th>\n",
       "    </tr>\n",
       "  </thead>\n",
       "  <tbody>\n",
       "    <tr>\n",
       "      <th>0 </th>\n",
       "      <td>       Sergio Andrés Vallejo Peña </td>\n",
       "      <td> 20111</td>\n",
       "      <td>      </td>\n",
       "      <td>   Activo</td>\n",
       "      <td>               Antonio Enea Romano</td>\n",
       "    </tr>\n",
       "    <tr>\n",
       "      <th>1 </th>\n",
       "      <td>       Diego Alberto Barón Moreno </td>\n",
       "      <td> 20111</td>\n",
       "      <td>      </td>\n",
       "      <td>   Activo</td>\n",
       "      <td>           Nelson Vanegas Arbeláez</td>\n",
       "    </tr>\n",
       "    <tr>\n",
       "      <th>2 </th>\n",
       "      <td>      Dario de Jesús Blandón Uribe</td>\n",
       "      <td> 20101</td>\n",
       "      <td>      </td>\n",
       "      <td>   Activo</td>\n",
       "      <td>                 Diego Restrepo Q.</td>\n",
       "    </tr>\n",
       "    <tr>\n",
       "      <th>3 </th>\n",
       "      <td>            Alejandro Correa López</td>\n",
       "      <td> 20062</td>\n",
       "      <td>      </td>\n",
       "      <td>   Activo</td>\n",
       "      <td>                      Oscar Zapata</td>\n",
       "    </tr>\n",
       "    <tr>\n",
       "      <th>4 </th>\n",
       "      <td>    Leidy Mariana Ramírez Quinceno</td>\n",
       "      <td> 20062</td>\n",
       "      <td>      </td>\n",
       "      <td>   Activo</td>\n",
       "      <td>   Daniel Esteban Jaramillo Arango</td>\n",
       "    </tr>\n",
       "    <tr>\n",
       "      <th>5 </th>\n",
       "      <td>     Bibinana Marcela  Marín Ochoa</td>\n",
       "      <td> 20062</td>\n",
       "      <td>  2014</td>\n",
       "      <td> Graduado</td>\n",
       "      <td>                 Diego Restrepo Q.</td>\n",
       "    </tr>\n",
       "    <tr>\n",
       "      <th>6 </th>\n",
       "      <td>    Silvio Stiven Villegas Castro </td>\n",
       "      <td> 20052</td>\n",
       "      <td>      </td>\n",
       "      <td>   Activo</td>\n",
       "      <td>   William Antonio Ponce Gutierrez</td>\n",
       "    </tr>\n",
       "    <tr>\n",
       "      <th>7 </th>\n",
       "      <td>         Allexandra Gavíria Noreña</td>\n",
       "      <td> 20052</td>\n",
       "      <td>  2014</td>\n",
       "      <td> Graduado</td>\n",
       "      <td>                      Oscar Zapata</td>\n",
       "    </tr>\n",
       "    <tr>\n",
       "      <th>8 </th>\n",
       "      <td>              Dilia Maria Portillo</td>\n",
       "      <td>  2008</td>\n",
       "      <td> 20132</td>\n",
       "      <td> Graduado</td>\n",
       "      <td>                 Diego Restrepo Q.</td>\n",
       "    </tr>\n",
       "    <tr>\n",
       "      <th>9 </th>\n",
       "      <td>          John David Gómez Aguirre</td>\n",
       "      <td>  2006</td>\n",
       "      <td> 20111</td>\n",
       "      <td> Graduado</td>\n",
       "      <td>                  William Ponce G.</td>\n",
       "    </tr>\n",
       "    <tr>\n",
       "      <th>10</th>\n",
       "      <td>    Camilo Andrés Salazar Gonzalez</td>\n",
       "      <td>      </td>\n",
       "      <td> 20132</td>\n",
       "      <td> Graduado</td>\n",
       "      <td>                 Diego Restrepo Q.</td>\n",
       "    </tr>\n",
       "    <tr>\n",
       "      <th>11</th>\n",
       "      <td>      Cristian David Ruiz Carvajal</td>\n",
       "      <td>      </td>\n",
       "      <td> 20132</td>\n",
       "      <td> Graduado</td>\n",
       "      <td>   William Antonio Ponce Gutierrez</td>\n",
       "    </tr>\n",
       "    <tr>\n",
       "      <th>12</th>\n",
       "      <td>                   Robinson Longas</td>\n",
       "      <td>      </td>\n",
       "      <td> 20112</td>\n",
       "      <td> Graduado</td>\n",
       "      <td>                 Diego Restrepo Q.</td>\n",
       "    </tr>\n",
       "    <tr>\n",
       "      <th>13</th>\n",
       "      <td>        Juan Camilo Macías Ramírez</td>\n",
       "      <td>      </td>\n",
       "      <td> 20111</td>\n",
       "      <td> Graduado</td>\n",
       "      <td>          Diego Alejandro Restrepo</td>\n",
       "    </tr>\n",
       "    <tr>\n",
       "      <th>14</th>\n",
       "      <td>                   Jose David Ruíz</td>\n",
       "      <td>      </td>\n",
       "      <td> 20101</td>\n",
       "      <td> Graduado</td>\n",
       "      <td>                 Diego Restrepo Q.</td>\n",
       "    </tr>\n",
       "    <tr>\n",
       "      <th>15</th>\n",
       "      <td>               Mauricio Bustamante</td>\n",
       "      <td>      </td>\n",
       "      <td>  2008</td>\n",
       "      <td> Graduado</td>\n",
       "      <td>         Jesus Maria Mira Martinez</td>\n",
       "    </tr>\n",
       "    <tr>\n",
       "      <th>16</th>\n",
       "      <td>         Alexander Gallego Cadavid</td>\n",
       "      <td>      </td>\n",
       "      <td>  2008</td>\n",
       "      <td> Graduado</td>\n",
       "      <td>   Daniel Esteban Jaramillo Arango</td>\n",
       "    </tr>\n",
       "    <tr>\n",
       "      <th>17</th>\n",
       "      <td>   Alejandro Javier Smith Arbelaez</td>\n",
       "      <td>      </td>\n",
       "      <td>  2007</td>\n",
       "      <td> Graduado</td>\n",
       "      <td>   Daniel Esteban Jaramillo Arango</td>\n",
       "    </tr>\n",
       "    <tr>\n",
       "      <th>18</th>\n",
       "      <td>     Eliana Yanet Chaverra Sánchez</td>\n",
       "      <td>      </td>\n",
       "      <td>  2007</td>\n",
       "      <td> Graduado</td>\n",
       "      <td>   Daniel Esteban Jaramillo Arango</td>\n",
       "    </tr>\n",
       "    <tr>\n",
       "      <th>19</th>\n",
       "      <td>       Carlos Andrés Flórez Acosta</td>\n",
       "      <td>      </td>\n",
       "      <td>  2007</td>\n",
       "      <td> Graduado</td>\n",
       "      <td> Diego Alejandro Restrepo Quintero</td>\n",
       "    </tr>\n",
       "    <tr>\n",
       "      <th>20</th>\n",
       "      <td> Germán Alberto  Hernández Herrera</td>\n",
       "      <td>      </td>\n",
       "      <td>  2008</td>\n",
       "      <td> Graduado</td>\n",
       "      <td> Diego Alejandro Restrepo Quintero</td>\n",
       "    </tr>\n",
       "    <tr>\n",
       "      <th>21</th>\n",
       "      <td>    Edison Alejandro Montoya Gómez</td>\n",
       "      <td>      </td>\n",
       "      <td>  2007</td>\n",
       "      <td> Graduado</td>\n",
       "      <td>           Nelson Vanegas Arbeláez</td>\n",
       "    </tr>\n",
       "    <tr>\n",
       "      <th>22</th>\n",
       "      <td>          Andrés Arbey Ochoa Rojas</td>\n",
       "      <td>      </td>\n",
       "      <td> 20072</td>\n",
       "      <td> Graduado</td>\n",
       "      <td> Diego Alejandro Restrepo Quintero</td>\n",
       "    </tr>\n",
       "    <tr>\n",
       "      <th>23</th>\n",
       "      <td>                    Sally Balbuena</td>\n",
       "      <td>      </td>\n",
       "      <td>  2007</td>\n",
       "      <td> Graduado</td>\n",
       "      <td>   William Antonio Ponce Gutierrez</td>\n",
       "    </tr>\n",
       "    <tr>\n",
       "      <th>24</th>\n",
       "      <td>                Mauricio Velásquez</td>\n",
       "      <td>      </td>\n",
       "      <td>  2006</td>\n",
       "      <td> Graduado</td>\n",
       "      <td> Diego Alejandro Restrepo Quintero</td>\n",
       "    </tr>\n",
       "    <tr>\n",
       "      <th>25</th>\n",
       "      <td>       Rafael Antonio Uribe Guerra</td>\n",
       "      <td>      </td>\n",
       "      <td>  2006</td>\n",
       "      <td> Graduado</td>\n",
       "      <td> Diego Alejandro Restrepo Quintero</td>\n",
       "    </tr>\n",
       "    <tr>\n",
       "      <th>26</th>\n",
       "      <td>          Nestor Cifuentes Taborda</td>\n",
       "      <td>      </td>\n",
       "      <td>  2006</td>\n",
       "      <td> Graduado</td>\n",
       "      <td> Diego Alejandro Restrepo Quintero</td>\n",
       "    </tr>\n",
       "    <tr>\n",
       "      <th>27</th>\n",
       "      <td>              César Alejandro Soto</td>\n",
       "      <td>      </td>\n",
       "      <td>  2006</td>\n",
       "      <td> Graduado</td>\n",
       "      <td>           Nelson Vanegas Arbeláez</td>\n",
       "    </tr>\n",
       "    <tr>\n",
       "      <th>28</th>\n",
       "      <td>                   Ana Maria Calle</td>\n",
       "      <td>      </td>\n",
       "      <td>  2005</td>\n",
       "      <td> Graduado</td>\n",
       "      <td>         Jesus Maria Mira Martinez</td>\n",
       "    </tr>\n",
       "    <tr>\n",
       "      <th>29</th>\n",
       "      <td>         Juan Carlos Muñoz Cuartas</td>\n",
       "      <td>      </td>\n",
       "      <td>  2004</td>\n",
       "      <td> Graduado</td>\n",
       "      <td>   Daniel Esteban Jaramillo Arango</td>\n",
       "    </tr>\n",
       "    <tr>\n",
       "      <th>30</th>\n",
       "      <td>       Oscar Alberto Zapata Noreña</td>\n",
       "      <td>      </td>\n",
       "      <td>  2003</td>\n",
       "      <td> Graduado</td>\n",
       "      <td> Diego Alejandro Restrepo Quintero</td>\n",
       "    </tr>\n",
       "    <tr>\n",
       "      <th>31</th>\n",
       "      <td>     Carlos Mario  Cartagena Marín</td>\n",
       "      <td>      </td>\n",
       "      <td>  2000</td>\n",
       "      <td> Graduado</td>\n",
       "      <td>           Nelson Vanegas Arbeláez</td>\n",
       "    </tr>\n",
       "    <tr>\n",
       "      <th>32</th>\n",
       "      <td>                   Marcela Ramirez</td>\n",
       "      <td>      </td>\n",
       "      <td>      </td>\n",
       "      <td>   Activo</td>\n",
       "      <td>   Daniel Esteban Jaramillo Arango</td>\n",
       "    </tr>\n",
       "    <tr>\n",
       "      <th>33</th>\n",
       "      <td>                      Camilo Santa</td>\n",
       "      <td>      </td>\n",
       "      <td>      </td>\n",
       "      <td> Desertor</td>\n",
       "      <td>                      Oscar Zapata</td>\n",
       "    </tr>\n",
       "  </tbody>\n",
       "</table>\n",
       "</div>"
      ],
      "text/plain": [
       "                           ESTUDIANTE Fecha de ingreso Fecha de graduación  \\\n",
       "0         Sergio Andrés Vallejo Peña             20111                       \n",
       "1         Diego Alberto Barón Moreno             20111                       \n",
       "2        Dario de Jesús Blandón Uribe            20101                       \n",
       "3              Alejandro Correa López            20062                       \n",
       "4      Leidy Mariana Ramírez Quinceno            20062                       \n",
       "5       Bibinana Marcela  Marín Ochoa            20062                2014   \n",
       "6      Silvio Stiven Villegas Castro             20052                       \n",
       "7           Allexandra Gavíria Noreña            20052                2014   \n",
       "8                Dilia Maria Portillo             2008               20132   \n",
       "9            John David Gómez Aguirre             2006               20111   \n",
       "10     Camilo Andrés Salazar Gonzalez                                20132   \n",
       "11       Cristian David Ruiz Carvajal                                20132   \n",
       "12                    Robinson Longas                                20112   \n",
       "13         Juan Camilo Macías Ramírez                                20111   \n",
       "14                    Jose David Ruíz                                20101   \n",
       "15                Mauricio Bustamante                                 2008   \n",
       "16          Alexander Gallego Cadavid                                 2008   \n",
       "17    Alejandro Javier Smith Arbelaez                                 2007   \n",
       "18      Eliana Yanet Chaverra Sánchez                                 2007   \n",
       "19        Carlos Andrés Flórez Acosta                                 2007   \n",
       "20  Germán Alberto  Hernández Herrera                                 2008   \n",
       "21     Edison Alejandro Montoya Gómez                                 2007   \n",
       "22           Andrés Arbey Ochoa Rojas                                20072   \n",
       "23                     Sally Balbuena                                 2007   \n",
       "24                 Mauricio Velásquez                                 2006   \n",
       "25        Rafael Antonio Uribe Guerra                                 2006   \n",
       "26           Nestor Cifuentes Taborda                                 2006   \n",
       "27               César Alejandro Soto                                 2006   \n",
       "28                    Ana Maria Calle                                 2005   \n",
       "29          Juan Carlos Muñoz Cuartas                                 2004   \n",
       "30        Oscar Alberto Zapata Noreña                                 2003   \n",
       "31      Carlos Mario  Cartagena Marín                                 2000   \n",
       "32                    Marcela Ramirez                                        \n",
       "33                       Camilo Santa                                        \n",
       "\n",
       "      Estado                             ASESOR  \n",
       "0     Activo                Antonio Enea Romano  \n",
       "1     Activo            Nelson Vanegas Arbeláez  \n",
       "2     Activo                  Diego Restrepo Q.  \n",
       "3     Activo                       Oscar Zapata  \n",
       "4     Activo    Daniel Esteban Jaramillo Arango  \n",
       "5   Graduado                  Diego Restrepo Q.  \n",
       "6     Activo    William Antonio Ponce Gutierrez  \n",
       "7   Graduado                       Oscar Zapata  \n",
       "8   Graduado                  Diego Restrepo Q.  \n",
       "9   Graduado                   William Ponce G.  \n",
       "10  Graduado                  Diego Restrepo Q.  \n",
       "11  Graduado    William Antonio Ponce Gutierrez  \n",
       "12  Graduado                  Diego Restrepo Q.  \n",
       "13  Graduado           Diego Alejandro Restrepo  \n",
       "14  Graduado                  Diego Restrepo Q.  \n",
       "15  Graduado          Jesus Maria Mira Martinez  \n",
       "16  Graduado    Daniel Esteban Jaramillo Arango  \n",
       "17  Graduado    Daniel Esteban Jaramillo Arango  \n",
       "18  Graduado    Daniel Esteban Jaramillo Arango  \n",
       "19  Graduado  Diego Alejandro Restrepo Quintero  \n",
       "20  Graduado  Diego Alejandro Restrepo Quintero  \n",
       "21  Graduado            Nelson Vanegas Arbeláez  \n",
       "22  Graduado  Diego Alejandro Restrepo Quintero  \n",
       "23  Graduado    William Antonio Ponce Gutierrez  \n",
       "24  Graduado  Diego Alejandro Restrepo Quintero  \n",
       "25  Graduado  Diego Alejandro Restrepo Quintero  \n",
       "26  Graduado  Diego Alejandro Restrepo Quintero  \n",
       "27  Graduado            Nelson Vanegas Arbeláez  \n",
       "28  Graduado          Jesus Maria Mira Martinez  \n",
       "29  Graduado    Daniel Esteban Jaramillo Arango  \n",
       "30  Graduado  Diego Alejandro Restrepo Quintero  \n",
       "31  Graduado            Nelson Vanegas Arbeláez  \n",
       "32    Activo    Daniel Esteban Jaramillo Arango  \n",
       "33  Desertor                       Oscar Zapata  "
      ]
     },
     "execution_count": 1,
     "metadata": {},
     "output_type": "execute_result"
    }
   ],
   "source": [
    "import pandas as pd\n",
    "def read_google_cvs(gss_url=\"http://spreadsheets.google.com\",\\\n",
    "    gss_format=\"csv\",\\\n",
    "    gss_key=\"0AuLa_xuSIEvxdERYSGVQWDBTX1NCN19QMXVpb0lhWXc\",\\\n",
    "    gss_sheet=0,\\\n",
    "    gss_query=\"select B,D,E,F,I where (H contains 'GFIF') order by D desc\",\\\n",
    "    gss_keep_default_na=False\n",
    "    ):\n",
    "    import urllib\n",
    "    import pandas as pd\n",
    "    \"\"\"\n",
    "    read a google spreadsheet in cvs format and return a pandas DataFrame object.\n",
    "       ....\n",
    "       gss_keep_default_na: (False) Blank values are filled with NaN\n",
    "    \"\"\"\n",
    "    issn_url=\"%s/tq?tqx=out:%s&tq=%s&key=%s&gid=%s\" %(gss_url,\\\n",
    "                                           gss_format,\\\n",
    "                                           gss_query,\\\n",
    "                                           gss_key,\\\n",
    "                                           str(gss_sheet))\n",
    "\n",
    "    gfile=urllib.urlopen(issn_url)\n",
    "    return pd.read_csv(gfile,keep_default_na=gss_keep_default_na)\n",
    "\n",
    "def catutf8(fileutf8):\n",
    "    \"\"\"\n",
    "    Print UTF-8 file.\n",
    "    \"\"\"\n",
    "    fo=open(fileutf8,'r')\n",
    "    a=fo.read()\n",
    "    a=a.decode('utf8')\n",
    "    fo.close()\n",
    "    print a\n",
    "\n",
    "#Sample of default search\n",
    "df=read_google_cvs()\n",
    "df"
   ]
  },
  {
   "cell_type": "markdown",
   "metadata": {},
   "source": [
    "Make dir for output files"
   ]
  },
  {
   "cell_type": "code",
   "execution_count": 2,
   "metadata": {
    "collapsed": false
   },
   "outputs": [],
   "source": [
    "%%bash \n",
    "if [ ! -d indicadores ];then \n",
    "  mkdir indicadores\n",
    "fi"
   ]
  },
  {
   "cell_type": "code",
   "execution_count": 3,
   "metadata": {
    "collapsed": false
   },
   "outputs": [
    {
     "name": "stdout",
     "output_type": "stream",
     "text": [
      "/home/ipython/gssis/pandas/indicadores\n"
     ]
    }
   ],
   "source": [
    "cd indicadores"
   ]
  },
  {
   "cell_type": "markdown",
   "metadata": {},
   "source": [
    "<h2 id=\"Estudiantes\">Estudiantes</h2>"
   ]
  },
  {
   "cell_type": "markdown",
   "metadata": {},
   "source": [
    "### Ejemplo salida $\\LaTeX$"
   ]
  },
  {
   "cell_type": "markdown",
   "metadata": {},
   "source": [
    "#### Estudiantes graduados de doctorado de GFIF:"
   ]
  },
  {
   "cell_type": "markdown",
   "metadata": {},
   "source": [
    "##### Obtener cvs filtrado con el query de google scholar:"
   ]
  },
  {
   "cell_type": "code",
   "execution_count": 4,
   "metadata": {
    "collapsed": false
   },
   "outputs": [
    {
     "data": {
      "text/html": [
       "<div style=\"max-height:1000px;max-width:1500px;overflow:auto;\">\n",
       "<table border=\"1\" class=\"dataframe\">\n",
       "  <thead>\n",
       "    <tr style=\"text-align: right;\">\n",
       "      <th></th>\n",
       "      <th>ESTUDIANTE</th>\n",
       "      <th>Fecha de graduación</th>\n",
       "      <th>ASESOR</th>\n",
       "      <th>Situación</th>\n",
       "    </tr>\n",
       "  </thead>\n",
       "  <tbody>\n",
       "    <tr>\n",
       "      <th>0</th>\n",
       "      <td>        Mauricio Velásquez López</td>\n",
       "      <td> 2013-1</td>\n",
       "      <td>                  Diego Restrepo Q.</td>\n",
       "      <td>                    </td>\n",
       "    </tr>\n",
       "    <tr>\n",
       "      <th>1</th>\n",
       "      <td>   Richard H. Benavides Palacios</td>\n",
       "      <td> 2011-2</td>\n",
       "      <td>                   William Ponce G.</td>\n",
       "      <td>              Normal</td>\n",
       "    </tr>\n",
       "    <tr>\n",
       "      <th>2</th>\n",
       "      <td>          Yithsbey Giraldo Usuga</td>\n",
       "      <td> 2009-2</td>\n",
       "      <td>                   William Ponce G.</td>\n",
       "      <td>                    </td>\n",
       "    </tr>\n",
       "    <tr>\n",
       "      <th>3</th>\n",
       "      <td>         Luis A. Muñoz Hernández</td>\n",
       "      <td> 2010-2</td>\n",
       "      <td>                       Enrico Nardi</td>\n",
       "      <td> Prórroga 1 (2009-2)</td>\n",
       "    </tr>\n",
       "    <tr>\n",
       "      <th>4</th>\n",
       "      <td>             Oscar Zapata Noreña</td>\n",
       "      <td> 2010-2</td>\n",
       "      <td>                  Diego Restrepo Q.</td>\n",
       "      <td>                    </td>\n",
       "    </tr>\n",
       "    <tr>\n",
       "      <th>5</th>\n",
       "      <td>        Diego A. Gutierrez Isaza</td>\n",
       "      <td> 2009-1</td>\n",
       "      <td>                   William Ponce G.</td>\n",
       "      <td>                    </td>\n",
       "    </tr>\n",
       "    <tr>\n",
       "      <th>6</th>\n",
       "      <td> José Patricio Valencia Valencia</td>\n",
       "      <td> 2006-2</td>\n",
       "      <td>                       Huanchuan Wu</td>\n",
       "      <td>                    </td>\n",
       "    </tr>\n",
       "    <tr>\n",
       "      <th>7</th>\n",
       "      <td>     Jorge Ivan Zuluaga Callejas</td>\n",
       "      <td> 2004-2</td>\n",
       "      <td>                       Enrico Nardi</td>\n",
       "      <td>                    </td>\n",
       "    </tr>\n",
       "    <tr>\n",
       "      <th>8</th>\n",
       "      <td>      Luis Alberto Sanchez Duque</td>\n",
       "      <td> 2002-2</td>\n",
       "      <td> William Ponce G., Daniel Jaramillo</td>\n",
       "      <td>                    </td>\n",
       "    </tr>\n",
       "    <tr>\n",
       "      <th>9</th>\n",
       "      <td>       Jesús María Mira Martínez</td>\n",
       "      <td> 2000-2</td>\n",
       "      <td>                       Enrico Nardi</td>\n",
       "      <td>                    </td>\n",
       "    </tr>\n",
       "  </tbody>\n",
       "</table>\n",
       "</div>"
      ],
      "text/plain": [
       "                        ESTUDIANTE Fecha de graduación  \\\n",
       "0         Mauricio Velásquez López              2013-1   \n",
       "1    Richard H. Benavides Palacios              2011-2   \n",
       "2           Yithsbey Giraldo Usuga              2009-2   \n",
       "3          Luis A. Muñoz Hernández              2010-2   \n",
       "4              Oscar Zapata Noreña              2010-2   \n",
       "5         Diego A. Gutierrez Isaza              2009-1   \n",
       "6  José Patricio Valencia Valencia              2006-2   \n",
       "7      Jorge Ivan Zuluaga Callejas              2004-2   \n",
       "8       Luis Alberto Sanchez Duque              2002-2   \n",
       "9        Jesús María Mira Martínez              2000-2   \n",
       "\n",
       "                               ASESOR            Situación  \n",
       "0                   Diego Restrepo Q.                       \n",
       "1                    William Ponce G.               Normal  \n",
       "2                    William Ponce G.                       \n",
       "3                        Enrico Nardi  Prórroga 1 (2009-2)  \n",
       "4                   Diego Restrepo Q.                       \n",
       "5                    William Ponce G.                       \n",
       "6                        Huanchuan Wu                       \n",
       "7                        Enrico Nardi                       \n",
       "8  William Ponce G., Daniel Jaramillo                       \n",
       "9                        Enrico Nardi                       "
      ]
     },
     "execution_count": 4,
     "metadata": {},
     "output_type": "execute_result"
    }
   ],
   "source": [
    "dff=read_google_cvs(gss_key='0AuLa_xuSIEvxdERYSGVQWDBTX1NCN19QMXVpb0lhWXc',\\\n",
    "                   gss_sheet=2,\\\n",
    "                   gss_query=\"select+B,E,I,U+where+(H+contains+'GFIF'+and+F+contains+'Graduado')+order+by+D+desc\")\n",
    "dff"
   ]
  },
  {
   "cell_type": "markdown",
   "metadata": {},
   "source": [
    "##### Or: Obtener cvs completo, mirar sus columnas y hacer el `query` con pandas"
   ]
  },
  {
   "cell_type": "code",
   "execution_count": 5,
   "metadata": {
    "collapsed": false
   },
   "outputs": [
    {
     "data": {
      "text/plain": [
       "Index([u'Unnamed: 0', u'ESTUDIANTE', u'Cédula', u'Fecha de ingreso', u'Fecha de graduación', u'Estado', u'INSTITUTO', u'GRUPO', u'ASESOR', u'CORREO', u'NOMBRE TESIS', u'CODIRECTOR', u'JURADO 1', u'JURADO 2', u'JURADO 3', u'Fecha de sustentación', u'ESTANTE', u'SIGNATURA', u'Distinción', u'Becado de', u'Situación', u'Proyecto ID', u'Pasantía', u'Doble titulación', u'Estado Laboral'], dtype='object')"
      ]
     },
     "execution_count": 5,
     "metadata": {},
     "output_type": "execute_result"
    }
   ],
   "source": [
    "df=read_google_cvs(gss_key='0AuLa_xuSIEvxdERYSGVQWDBTX1NCN19QMXVpb0lhWXc',\\\n",
    "                   gss_sheet=2,\\\n",
    "                   gss_query=\"select *\")\n",
    "df.columns"
   ]
  },
  {
   "cell_type": "code",
   "execution_count": 6,
   "metadata": {
    "collapsed": false
   },
   "outputs": [
    {
     "data": {
      "text/html": [
       "<div style=\"max-height:1000px;max-width:1500px;overflow:auto;\">\n",
       "<table border=\"1\" class=\"dataframe\">\n",
       "  <thead>\n",
       "    <tr style=\"text-align: right;\">\n",
       "      <th></th>\n",
       "      <th>ESTUDIANTE</th>\n",
       "      <th>Fecha de graduación</th>\n",
       "      <th>ASESOR</th>\n",
       "      <th>Estado Laboral</th>\n",
       "    </tr>\n",
       "  </thead>\n",
       "  <tbody>\n",
       "    <tr>\n",
       "      <th>0</th>\n",
       "      <td>        Mauricio Velásquez López</td>\n",
       "      <td> 2013-1</td>\n",
       "      <td>                  Diego Restrepo Q.</td>\n",
       "      <td>                      </td>\n",
       "    </tr>\n",
       "    <tr>\n",
       "      <th>1</th>\n",
       "      <td>   Richard H. Benavides Palacios</td>\n",
       "      <td> 2011-2</td>\n",
       "      <td>                   William Ponce G.</td>\n",
       "      <td>                   ITM</td>\n",
       "    </tr>\n",
       "    <tr>\n",
       "      <th>2</th>\n",
       "      <td>          Yithsbey Giraldo Usuga</td>\n",
       "      <td> 2009-2</td>\n",
       "      <td>                   William Ponce G.</td>\n",
       "      <td> Universidad de Nariño</td>\n",
       "    </tr>\n",
       "    <tr>\n",
       "      <th>3</th>\n",
       "      <td>         Luis A. Muñoz Hernández</td>\n",
       "      <td> 2010-2</td>\n",
       "      <td>                       Enrico Nardi</td>\n",
       "      <td>                   ITM</td>\n",
       "    </tr>\n",
       "    <tr>\n",
       "      <th>4</th>\n",
       "      <td>             Oscar Zapata Noreña</td>\n",
       "      <td> 2010-2</td>\n",
       "      <td>                  Diego Restrepo Q.</td>\n",
       "      <td>                  UdeA</td>\n",
       "    </tr>\n",
       "    <tr>\n",
       "      <th>5</th>\n",
       "      <td>        Diego A. Gutierrez Isaza</td>\n",
       "      <td> 2009-1</td>\n",
       "      <td>                   William Ponce G.</td>\n",
       "      <td>                   ITM</td>\n",
       "    </tr>\n",
       "    <tr>\n",
       "      <th>6</th>\n",
       "      <td> José Patricio Valencia Valencia</td>\n",
       "      <td> 2006-2</td>\n",
       "      <td>                       Huanchuan Wu</td>\n",
       "      <td>                  UdeA</td>\n",
       "    </tr>\n",
       "    <tr>\n",
       "      <th>7</th>\n",
       "      <td>     Jorge Ivan Zuluaga Callejas</td>\n",
       "      <td> 2004-2</td>\n",
       "      <td>                       Enrico Nardi</td>\n",
       "      <td>                  UdeA</td>\n",
       "    </tr>\n",
       "    <tr>\n",
       "      <th>8</th>\n",
       "      <td>      Luis Alberto Sanchez Duque</td>\n",
       "      <td> 2002-2</td>\n",
       "      <td> William Ponce G., Daniel Jaramillo</td>\n",
       "      <td>    UNAL sede Medellìn</td>\n",
       "    </tr>\n",
       "    <tr>\n",
       "      <th>9</th>\n",
       "      <td>       Jesús María Mira Martínez</td>\n",
       "      <td> 2000-2</td>\n",
       "      <td>                       Enrico Nardi</td>\n",
       "      <td>                  UdeA</td>\n",
       "    </tr>\n",
       "  </tbody>\n",
       "</table>\n",
       "</div>"
      ],
      "text/plain": [
       "                        ESTUDIANTE Fecha de graduación  \\\n",
       "0         Mauricio Velásquez López              2013-1   \n",
       "1    Richard H. Benavides Palacios              2011-2   \n",
       "2           Yithsbey Giraldo Usuga              2009-2   \n",
       "3          Luis A. Muñoz Hernández              2010-2   \n",
       "4              Oscar Zapata Noreña              2010-2   \n",
       "5         Diego A. Gutierrez Isaza              2009-1   \n",
       "6  José Patricio Valencia Valencia              2006-2   \n",
       "7      Jorge Ivan Zuluaga Callejas              2004-2   \n",
       "8       Luis Alberto Sanchez Duque              2002-2   \n",
       "9        Jesús María Mira Martínez              2000-2   \n",
       "\n",
       "                               ASESOR         Estado Laboral  \n",
       "0                   Diego Restrepo Q.                         \n",
       "1                    William Ponce G.                    ITM  \n",
       "2                    William Ponce G.  Universidad de Nariño  \n",
       "3                        Enrico Nardi                    ITM  \n",
       "4                   Diego Restrepo Q.                   UdeA  \n",
       "5                    William Ponce G.                    ITM  \n",
       "6                        Huanchuan Wu                   UdeA  \n",
       "7                        Enrico Nardi                   UdeA  \n",
       "8  William Ponce G., Daniel Jaramillo     UNAL sede Medellìn  \n",
       "9                        Enrico Nardi                   UdeA  "
      ]
     },
     "execution_count": 6,
     "metadata": {},
     "output_type": "execute_result"
    }
   ],
   "source": [
    "dff=df[pd.np.logical_and(df['GRUPO'].str.contains('GFIF'),df['Estado']=='Graduado')]\n",
    "dff=dff[['ESTUDIANTE','Fecha de graduación','ASESOR','Estado Laboral']]\n",
    "dff.reset_index(drop=True)"
   ]
  },
  {
   "cell_type": "markdown",
   "metadata": {},
   "source": [
    "See [Compile a LaTeX document into a png image](http://tex.stackexchange.com/questions/11866/compile-a-latex-document-into-a-png-image-thats-as-short-as-possible):"
   ]
  },
  {
   "cell_type": "code",
   "execution_count": 7,
   "metadata": {
    "collapsed": false
   },
   "outputs": [],
   "source": [
    "f=open('doctorado.tex','w')\n",
    "#f.write(r'\\documentclass[convert]{standalone}')\n",
    "f.write(r'''\\documentclass[convert={size=800x600}]{standalone}\n",
    "\\usepackage[utf8]{inputenc}\n",
    "\\begin{document}\n",
    "''')\n",
    "s=dff.to_latex(index=False)\n",
    "f.write(s.encode(\"utf\"))\n",
    "f.write(r'\\end{document}')\n",
    "f.close()"
   ]
  },
  {
   "cell_type": "code",
   "execution_count": 8,
   "metadata": {
    "collapsed": false
   },
   "outputs": [],
   "source": [
    "%%bash\n",
    "pdflatex -shell-escape doctorado.tex > /dev/null"
   ]
  },
  {
   "cell_type": "code",
   "execution_count": 9,
   "metadata": {
    "collapsed": false
   },
   "outputs": [
    {
     "data": {
      "image/png": "[encoded data removed]",
      "text/plain": [
       "<IPython.core.display.Image object>"
      ]
     },
     "execution_count": 9,
     "metadata": {},
     "output_type": "execute_result"
    }
   ],
   "source": [
    "from IPython.display import Image\n",
    "Image(filename='doctorado.png')"
   ]
  },
  {
   "cell_type": "code",
   "execution_count": 10,
   "metadata": {
    "collapsed": false
   },
   "outputs": [
    {
     "name": "stdout",
     "output_type": "stream",
     "text": [
      "\\documentclass[convert={size=800x600}]{standalone}\n",
      "\\usepackage[utf8]{inputenc}\n",
      "\\begin{document}\n",
      "\\begin{tabular}{llll}\n",
      "\\toprule\n",
      "                      ESTUDIANTE & Fecha de graduación &                              ASESOR &         Estado Laboral \\\\\n",
      "\\midrule\n",
      "        Mauricio Velásquez López &              2013-1 &                   Diego Restrepo Q. &                        \\\\\n",
      "   Richard H. Benavides Palacios &              2011-2 &                    William Ponce G. &                    ITM \\\\\n",
      "          Yithsbey Giraldo Usuga &              2009-2 &                    William Ponce G. &  Universidad de Nariño \\\\\n",
      "         Luis A. Muñoz Hernández &              2010-2 &                        Enrico Nardi &                    ITM \\\\\n",
      "             Oscar Zapata Noreña &              2010-2 &                   Diego Restrepo Q. &                   UdeA \\\\\n",
      "        Diego A. Gutierrez Isaza &              2009-1 &                    William Ponce G. &                    ITM \\\\\n",
      " José Patricio Valencia Valencia &              2006-2 &                        Huanchuan Wu &                   UdeA \\\\\n",
      "     Jorge Ivan Zuluaga Callejas &              2004-2 &                        Enrico Nardi &                   UdeA \\\\\n",
      "      Luis Alberto Sanchez Duque &              2002-2 &  William Ponce G., Daniel Jaramillo &     UNAL sede Medellìn \\\\\n",
      "       Jesús María Mira Martínez &              2000-2 &                        Enrico Nardi &                   UdeA \\\\\n",
      "\\bottomrule\n",
      "\\end{tabular}\n",
      "\\end{document}\n"
     ]
    }
   ],
   "source": [
    "catutf8('doctorado.tex')"
   ]
  },
  {
   "cell_type": "markdown",
   "metadata": {},
   "source": [
    "### Estudiantes Graduados Doctorado en Física por Grupos"
   ]
  },
  {
   "cell_type": "code",
   "execution_count": 13,
   "metadata": {
    "collapsed": false
   },
   "outputs": [
    {
     "data": {
      "text/plain": [
       "<matplotlib.axes._subplots.AxesSubplot at 0x7f6850102a90>"
      ]
     },
     "execution_count": 13,
     "metadata": {},
     "output_type": "execute_result"
    },
    {
     "data": {
      "image/png": "[encoded data removed]",
      "text/plain": [
       "<matplotlib.figure.Figure at 0x7f68500ec8d0>"
      ]
     },
     "metadata": {},
     "output_type": "display_data"
    }
   ],
   "source": [
    "dft=df[df['Estado']=='Graduado']\n",
    "dft['GRUPO'].value_counts().plot(kind='barh', rot=0)\n",
    "#plt.savefig('doc.pdf')"
   ]
  },
  {
   "cell_type": "markdown",
   "metadata": {},
   "source": [
    "<h2 id=\"Proyectos_vigentes\">Proyectos vigentes</h2>"
   ]
  },
  {
   "cell_type": "markdown",
   "metadata": {},
   "source": [
    "A continuación obtendremos una lista en $\\LaTeX$ con los proyectos vigentes del Grupo GFIF"
   ]
  },
  {
   "cell_type": "code",
   "execution_count": 14,
   "metadata": {
    "collapsed": false
   },
   "outputs": [
    {
     "data": {
      "text/plain": [
       "Index([u'Timestamp', u'Username', u'Proyecto ID', u'Título', u'Investigador Principal', u'Acta', u'Fecha de Inicio', u'Fecha de Finalización', u'Tipo', u'Centro', u'Grupo', u'Valor Total', u'Recursos Frescos', u'Número de contrato'], dtype='object')"
      ]
     },
     "execution_count": 14,
     "metadata": {},
     "output_type": "execute_result"
    }
   ],
   "source": [
    "df=read_google_cvs(gss_key='0AjqGPI5Q_Ez6dFE1S2pWQkZJdFkycWFvNXdaMDhkWFE',gss_query=\"select *\")\n",
    "df.columns"
   ]
  },
  {
   "cell_type": "markdown",
   "metadata": {},
   "source": [
    "Adicione una nueva columna al DataFrame de pandas filtrado con los proyectos de `'GFIF'`, con el año obtenido a partir de la `'Fecha de Finalización'`"
   ]
  },
  {
   "cell_type": "code",
   "execution_count": 15,
   "metadata": {
    "collapsed": false
   },
   "outputs": [],
   "source": [
    "df=df[df['Grupo'].str.contains('GFIF')]\n",
    "df=df.reset_index(drop=True)\n",
    "year=[]\n",
    "for i in range(df.shape[0]):\n",
    "  year.append(int(df['Fecha de Finalización'][i].split('-')[0]))\n",
    "    \n",
    "df['Año de Finalización']=year"
   ]
  },
  {
   "cell_type": "code",
   "execution_count": 16,
   "metadata": {
    "collapsed": false
   },
   "outputs": [
    {
     "data": {
      "text/html": [
       "<div style=\"max-height:1000px;max-width:1500px;overflow:auto;\">\n",
       "<table border=\"1\" class=\"dataframe\">\n",
       "  <thead>\n",
       "    <tr style=\"text-align: right;\">\n",
       "      <th></th>\n",
       "      <th>Investigador Principal</th>\n",
       "      <th>Fecha de Inicio</th>\n",
       "      <th>Tipo</th>\n",
       "    </tr>\n",
       "  </thead>\n",
       "  <tbody>\n",
       "    <tr>\n",
       "      <th>0</th>\n",
       "      <td>                Eduardo Rojas Peña</td>\n",
       "      <td> 2015-03-18</td>\n",
       "      <td>                               Postdoc COLCIENCIAS</td>\n",
       "    </tr>\n",
       "    <tr>\n",
       "      <th>1</th>\n",
       "      <td>                      Óscar Zapata</td>\n",
       "      <td> 2015-03-01</td>\n",
       "      <td>                                       Colciencias</td>\n",
       "    </tr>\n",
       "    <tr>\n",
       "      <th>2</th>\n",
       "      <td> Diego Alejandro Restrepo Quintero</td>\n",
       "      <td> 2014-10-20</td>\n",
       "      <td> Convocatoria Programática Ciencias Exactas 201...</td>\n",
       "    </tr>\n",
       "    <tr>\n",
       "      <th>3</th>\n",
       "      <td>                    Diego Restrepo</td>\n",
       "      <td> 2014-10-13</td>\n",
       "      <td>                                    Sostenibilidad</td>\n",
       "    </tr>\n",
       "    <tr>\n",
       "      <th>4</th>\n",
       "      <td>       Óscar Alberto Zapata Noreña</td>\n",
       "      <td> 2014-03-14</td>\n",
       "      <td>                     Convocatoria Ciencias Exactas</td>\n",
       "    </tr>\n",
       "    <tr>\n",
       "      <th>5</th>\n",
       "      <td>                     William Ponce</td>\n",
       "      <td> 2014-02-17</td>\n",
       "      <td>                     Convocatoria Ciencias Exactas</td>\n",
       "    </tr>\n",
       "    <tr>\n",
       "      <th>6</th>\n",
       "      <td>               Antonio Enea Romano</td>\n",
       "      <td> 2013-10-01</td>\n",
       "      <td>                                          SUI 2013</td>\n",
       "    </tr>\n",
       "    <tr>\n",
       "      <th>7</th>\n",
       "      <td>                      Oscar Zapata</td>\n",
       "      <td> 2013-08-21</td>\n",
       "      <td>                                              ICTP</td>\n",
       "    </tr>\n",
       "    <tr>\n",
       "      <th>8</th>\n",
       "      <td>                    Diego Restrepo</td>\n",
       "      <td> 2013-08-21</td>\n",
       "      <td>                                              ICTP</td>\n",
       "    </tr>\n",
       "  </tbody>\n",
       "</table>\n",
       "</div>"
      ],
      "text/plain": [
       "              Investigador Principal Fecha de Inicio  \\\n",
       "0                 Eduardo Rojas Peña      2015-03-18   \n",
       "1                       Óscar Zapata      2015-03-01   \n",
       "2  Diego Alejandro Restrepo Quintero      2014-10-20   \n",
       "3                     Diego Restrepo      2014-10-13   \n",
       "4        Óscar Alberto Zapata Noreña      2014-03-14   \n",
       "5                      William Ponce      2014-02-17   \n",
       "6                Antonio Enea Romano      2013-10-01   \n",
       "7                       Oscar Zapata      2013-08-21   \n",
       "8                     Diego Restrepo      2013-08-21   \n",
       "\n",
       "                                                Tipo  \n",
       "0                                Postdoc COLCIENCIAS  \n",
       "1                                        Colciencias  \n",
       "2  Convocatoria Programática Ciencias Exactas 201...  \n",
       "3                                     Sostenibilidad  \n",
       "4                      Convocatoria Ciencias Exactas  \n",
       "5                      Convocatoria Ciencias Exactas  \n",
       "6                                           SUI 2013  \n",
       "7                                               ICTP  \n",
       "8                                               ICTP  "
      ]
     },
     "execution_count": 16,
     "metadata": {},
     "output_type": "execute_result"
    }
   ],
   "source": [
    "import datetime\n",
    "dff=df[df['Año de Finalización']>=datetime.datetime.now().year]\n",
    "dff=dff.sort(['Fecha de Inicio'],ascending=False)\n",
    "dff=dff.reset_index(drop=True)\n",
    "dff[['Investigador Principal','Fecha de Inicio','Tipo']]"
   ]
  },
  {
   "cell_type": "markdown",
   "metadata": {},
   "source": [
    "Prepare $\\LaTeX$ output"
   ]
  },
  {
   "cell_type": "code",
   "execution_count": 17,
   "metadata": {
    "collapsed": false
   },
   "outputs": [],
   "source": [
    "f=open('proyectos.tex','w')\n",
    "f.write(r'''\\documentclass{article}\n",
    "\\usepackage[utf8]{inputenc}\n",
    "\\pagestyle{empty}\n",
    "\\begin{document}\n",
    "\\begin{itemize}\n",
    "''')\n",
    "for i in range(dff.shape[0]):\n",
    "     f.write(r'''\\item %s\n",
    "\\begin{itemize}\n",
    "\\item Investigador principal: %s\n",
    "\\item Fecha de inicio y tipo: %s, %s\n",
    "\\end{itemize}\n",
    "''' %(dff['Título'][i],\\\n",
    "      dff['Investigador Principal'][i],\\\n",
    "      dff['Fecha de Inicio'][i].split('-')[0],\\\n",
    "      dff['Tipo'][i])\n",
    "     ) \n",
    "\n",
    "f.write(r'''\\end{itemize}\n",
    "\\end{document}\n",
    "''')\n",
    "f.close()"
   ]
  },
  {
   "cell_type": "code",
   "execution_count": 18,
   "metadata": {
    "collapsed": false
   },
   "outputs": [],
   "source": [
    "%%bash\n",
    "pdflatex -shell-escape proyectos.tex >/dev/null\n",
    "pdfcrop proyectos.pdf proyectos.pdf  >/dev/null\n",
    "convert -resize 559x749 -density 300 proyectos.pdf proyectos.png"
   ]
  },
  {
   "cell_type": "markdown",
   "metadata": {},
   "source": [
    "Open file generated without `-resize` in a new tab to get default size. The resize:"
   ]
  },
  {
   "cell_type": "code",
   "execution_count": 17,
   "metadata": {
    "collapsed": false
   },
   "outputs": [
    {
     "data": {
      "text/plain": [
       "array([ 559.3,  749.7])"
      ]
     },
     "execution_count": 17,
     "metadata": {},
     "output_type": "execute_result"
    }
   ],
   "source": [
    "1.7*pd.np.asarray([329,441])"
   ]
  },
  {
   "cell_type": "code",
   "execution_count": 19,
   "metadata": {
    "collapsed": false
   },
   "outputs": [
    {
     "data": {
      "image/png": "[encoded data removed]",
      "text/plain": [
       "<IPython.core.display.Image object>"
      ]
     },
     "execution_count": 19,
     "metadata": {},
     "output_type": "execute_result"
    }
   ],
   "source": [
    "from IPython.display import Image\n",
    "Image(filename='proyectos.png')"
   ]
  },
  {
   "cell_type": "code",
   "execution_count": 20,
   "metadata": {
    "collapsed": false
   },
   "outputs": [
    {
     "name": "stdout",
     "output_type": "stream",
     "text": [
      "\\documentclass{article}\n",
      "\\usepackage[utf8]{inputenc}\n",
      "\\pagestyle{empty}\n",
      "\\begin{document}\n",
      "\\begin{itemize}\n",
      "\\item Fenomengología de bosones vectorial neutros extra\n",
      "\\begin{itemize}\n",
      "\\item Investigador principal: Eduardo Rojas Peña\n",
      "\\item Fecha de inicio y tipo: 2015, Postdoc COLCIENCIAS\n",
      "\\end{itemize}\n",
      "\\item Fenomenología de modelos escotogénicos\n",
      "\\begin{itemize}\n",
      "\\item Investigador principal: Óscar Zapata\n",
      "\\item Fecha de inicio y tipo: 2015, Colciencias\n",
      "\\end{itemize}\n",
      "\\item Fenomenología de modelos con materia oscura escalar y masas de neutrinos\n",
      "\\begin{itemize}\n",
      "\\item Investigador principal: Diego Alejandro Restrepo Quintero\n",
      "\\item Fecha de inicio y tipo: 2014, Convocatoria Programática Ciencias Exactas 2014-2015\n",
      "\\end{itemize}\n",
      "\\item Estrategia para la Sostenibilidad GFIF 2015-2016\n",
      "\\begin{itemize}\n",
      "\\item Investigador principal: Diego Restrepo\n",
      "\\item Fecha de inicio y tipo: 2014, Sostenibilidad\n",
      "\\end{itemize}\n",
      "\\item Implicaciones de modelos tipo seesaw radiativo en las fronteras de la física de partículas y la cosmología\n",
      "\\begin{itemize}\n",
      "\\item Investigador principal: Óscar Alberto Zapata Noreña\n",
      "\\item Fecha de inicio y tipo: 2014, Convocatoria Ciencias Exactas\n",
      "\\end{itemize}\n",
      "\\item Masas y mezclas de neutrinos en modelos 3-N-1 (N=3,4)\n",
      "\\begin{itemize}\n",
      "\\item Investigador principal: William Ponce\n",
      "\\item Fecha de inicio y tipo: 2014, Convocatoria Ciencias Exactas\n",
      "\\end{itemize}\n",
      "\\item Cosmological effects of local inhomogeneities\n",
      "\\begin{itemize}\n",
      "\\item Investigador principal: Antonio Enea Romano\n",
      "\\item Fecha de inicio y tipo: 2013, SUI 2013\n",
      "\\end{itemize}\n",
      "\\item ICTP Simons Associate\n",
      "\\begin{itemize}\n",
      "\\item Investigador principal: Oscar Zapata\n",
      "\\item Fecha de inicio y tipo: 2013, ICTP\n",
      "\\end{itemize}\n",
      "\\item ICTP Simons Associate\n",
      "\\begin{itemize}\n",
      "\\item Investigador principal: Diego Restrepo\n",
      "\\item Fecha de inicio y tipo: 2013, ICTP\n",
      "\\end{itemize}\n",
      "\\end{itemize}\n",
      "\\end{document}\n",
      "\n"
     ]
    }
   ],
   "source": [
    "catutf8('proyectos.tex')"
   ]
  },
  {
   "cell_type": "markdown",
   "metadata": {},
   "source": [
    "<h2 id=\"Articulos\">Artículos</h2>"
   ]
  },
  {
   "cell_type": "markdown",
   "metadata": {},
   "source": [
    "### Por Grupo"
   ]
  },
  {
   "cell_type": "code",
   "execution_count": 36,
   "metadata": {
    "collapsed": false
   },
   "outputs": [
    {
     "data": {
      "text/plain": [
       "Index([u'Timestamp', u'Username', u'Año', u'Tipo', u'Autor(es)', u'Revista', u'Vol.', u'pág.', u'ISSN', u'Artículo', u'Impreso', u'PDF', u'Grupo', u'DOI', u'Tipo.1', u'Rótulo', u'Autores de la UdeA', u'Clasificación Colciencias', u'Factor de Impacto', u'Proyecto'], dtype='object')"
      ]
     },
     "execution_count": 36,
     "metadata": {},
     "output_type": "execute_result"
    }
   ],
   "source": [
    "df=read_google_cvs(gss_key='1sZnl3qRMQTfZ2iAp6JFBAtHnqR9rAcBSNcxf7cpuSjM',gss_query=\"select *\")\n",
    "df.columns"
   ]
  },
  {
   "cell_type": "code",
   "execution_count": 38,
   "metadata": {
    "collapsed": false
   },
   "outputs": [
    {
     "data": {
      "text/html": [
       "<div style=\"max-height:1000px;max-width:1500px;overflow:auto;\">\n",
       "<table border=\"1\" class=\"dataframe\">\n",
       "  <thead>\n",
       "    <tr style=\"text-align: right;\">\n",
       "      <th></th>\n",
       "      <th>Año</th>\n",
       "      <th>Autor(es)</th>\n",
       "      <th>Artículo</th>\n",
       "      <th>Vol.</th>\n",
       "      <th>pág.</th>\n",
       "      <th>ISSN</th>\n",
       "      <th>Revista</th>\n",
       "      <th>Grupo</th>\n",
       "      <th>DOI</th>\n",
       "      <th>Clasificación Colciencias</th>\n",
       "      <th>Factor de Impacto</th>\n",
       "    </tr>\n",
       "  </thead>\n",
       "  <tbody>\n",
       "    <tr>\n",
       "      <th>980</th>\n",
       "      <td> 2014</td>\n",
       "      <td> Romano, Antonio Enea; Chiang, Hsu-Wen; Chen, P...</td>\n",
       "      <td> A new method to determine large scale structur...</td>\n",
       "      <td>  31</td>\n",
       "      <td>      115008</td>\n",
       "      <td> 0264-9381</td>\n",
       "      <td>                     Classical and Quantum Gravity</td>\n",
       "      <td> GFIF: Grupo de Fenomenología de Interacciones ...</td>\n",
       "      <td> 10.1088/0264-9381/31/11/115008</td>\n",
       "      <td> A1</td>\n",
       "      <td> 3.2</td>\n",
       "    </tr>\n",
       "    <tr>\n",
       "      <th>982</th>\n",
       "      <td> 2013</td>\n",
       "      <td>                            Romano, Antonio Enea; </td>\n",
       "      <td> Can smooth LTB models mimicking the cosmologic...</td>\n",
       "      <td>  45</td>\n",
       "      <td> Desconocido</td>\n",
       "      <td> 0001-7701</td>\n",
       "      <td>                General Relativity and Gravitation</td>\n",
       "      <td> GFIF: Grupo de Fenomenología de Interacciones ...</td>\n",
       "      <td>      10.1007/s10714-013-1602-1</td>\n",
       "      <td> A1</td>\n",
       "      <td> 1.9</td>\n",
       "    </tr>\n",
       "    <tr>\n",
       "      <th>983</th>\n",
       "      <td> 2015</td>\n",
       "      <td> Cadavid, Alexander Gallego; Romano, Antonio En...</td>\n",
       "      <td> Effects of discontinuities of the derivatives ...</td>\n",
       "      <td>  75</td>\n",
       "      <td> Desconocido</td>\n",
       "      <td> 1434-6044</td>\n",
       "      <td>                       European Physical Journal C</td>\n",
       "      <td> GFIF: Grupo de Fenomenología de Interacciones ...</td>\n",
       "      <td> 10.1140/epjc/s10052-015-3733-x</td>\n",
       "      <td> A1</td>\n",
       "      <td> 5.2</td>\n",
       "    </tr>\n",
       "    <tr>\n",
       "      <th>985</th>\n",
       "      <td> 2015</td>\n",
       "      <td> Hollyhead, Katherine; Bastian, Nate; Adamo, An...</td>\n",
       "      <td> Studying the YMC population of M83: how long c...</td>\n",
       "      <td> 449</td>\n",
       "      <td> Desconocido</td>\n",
       "      <td> 0035-8711</td>\n",
       "      <td> Monthly Notices of the Royal Astronomical Society</td>\n",
       "      <td>                                       Desconocido</td>\n",
       "      <td>           10.1093/mnras/stv331</td>\n",
       "      <td> A1</td>\n",
       "      <td> 5.5</td>\n",
       "    </tr>\n",
       "    <tr>\n",
       "      <th>986</th>\n",
       "      <td> 2014</td>\n",
       "      <td> Bastian, N; Adamo, Angela; Schirmer, M; Hollyh...</td>\n",
       "      <td> The effect of spatial resolution on optical an...</td>\n",
       "      <td> 444</td>\n",
       "      <td> Desconocido</td>\n",
       "      <td> 0035-8711</td>\n",
       "      <td> Monthly Notices of the Royal Astronomical Society</td>\n",
       "      <td>                                       Desconocido</td>\n",
       "      <td>          10.1093/mnras/stu1695</td>\n",
       "      <td> A1</td>\n",
       "      <td> 5.5</td>\n",
       "    </tr>\n",
       "  </tbody>\n",
       "</table>\n",
       "</div>"
      ],
      "text/plain": [
       "      Año                                          Autor(es)  \\\n",
       "980  2014  Romano, Antonio Enea; Chiang, Hsu-Wen; Chen, P...   \n",
       "982  2013                             Romano, Antonio Enea;    \n",
       "983  2015  Cadavid, Alexander Gallego; Romano, Antonio En...   \n",
       "985  2015  Hollyhead, Katherine; Bastian, Nate; Adamo, An...   \n",
       "986  2014  Bastian, N; Adamo, Angela; Schirmer, M; Hollyh...   \n",
       "\n",
       "                                              Artículo Vol.         pág.  \\\n",
       "980  A new method to determine large scale structur...   31       115008   \n",
       "982  Can smooth LTB models mimicking the cosmologic...   45  Desconocido   \n",
       "983  Effects of discontinuities of the derivatives ...   75  Desconocido   \n",
       "985  Studying the YMC population of M83: how long c...  449  Desconocido   \n",
       "986  The effect of spatial resolution on optical an...  444  Desconocido   \n",
       "\n",
       "          ISSN                                            Revista  \\\n",
       "980  0264-9381                      Classical and Quantum Gravity   \n",
       "982  0001-7701                 General Relativity and Gravitation   \n",
       "983  1434-6044                        European Physical Journal C   \n",
       "985  0035-8711  Monthly Notices of the Royal Astronomical Society   \n",
       "986  0035-8711  Monthly Notices of the Royal Astronomical Society   \n",
       "\n",
       "                                                 Grupo  \\\n",
       "980  GFIF: Grupo de Fenomenología de Interacciones ...   \n",
       "982  GFIF: Grupo de Fenomenología de Interacciones ...   \n",
       "983  GFIF: Grupo de Fenomenología de Interacciones ...   \n",
       "985                                        Desconocido   \n",
       "986                                        Desconocido   \n",
       "\n",
       "                                DOI Clasificación Colciencias  \\\n",
       "980  10.1088/0264-9381/31/11/115008                        A1   \n",
       "982       10.1007/s10714-013-1602-1                        A1   \n",
       "983  10.1140/epjc/s10052-015-3733-x                        A1   \n",
       "985            10.1093/mnras/stv331                        A1   \n",
       "986           10.1093/mnras/stu1695                        A1   \n",
       "\n",
       "    Factor de Impacto  \n",
       "980               3.2  \n",
       "982               1.9  \n",
       "983               5.2  \n",
       "985               5.5  \n",
       "986               5.5  "
      ]
     },
     "execution_count": 38,
     "metadata": {},
     "output_type": "execute_result"
    }
   ],
   "source": [
    "publicadas=df[df['ISSN']!='0000-0000']\n",
    "publicadas=publicadas.reset_index(drop=True)\n",
    "publicadas=publicadas.replace('','Desconocido')\n",
    "\n",
    "#Ejemplo visualización\n",
    "publicadas[['Año','Autor(es)','Artículo','Vol.','pág.','ISSN','Revista','Grupo','DOI','Clasificación Colciencias','Factor de Impacto']][publicadas['DOI']!='Not DOI'][-5:]"
   ]
  },
  {
   "cell_type": "markdown",
   "metadata": {},
   "source": [
    "#### Todos los años"
   ]
  },
  {
   "cell_type": "markdown",
   "metadata": {},
   "source": [
    "Ejemplos plots con `pandas`: http://pandas.pydata.org/pandas-docs/dev/visualization.html"
   ]
  },
  {
   "cell_type": "code",
   "execution_count": 39,
   "metadata": {
    "collapsed": false
   },
   "outputs": [
    {
     "data": {
      "text/plain": [
       "<matplotlib.axes._subplots.AxesSubplot at 0x7f68480f0390>"
      ]
     },
     "execution_count": 39,
     "metadata": {},
     "output_type": "execute_result"
    },
    {
     "data": {
      "image/png": "[encoded data removed]",
      "text/plain": [
       "<matplotlib.figure.Figure at 0x7f6848077290>"
      ]
     },
     "metadata": {},
     "output_type": "display_data"
    }
   ],
   "source": [
    "publicadas['Grupo'].value_counts()[:10].plot(kind='barh', rot=0)"
   ]
  },
  {
   "cell_type": "markdown",
   "metadata": {},
   "source": [
    "#### Últimos cinco años"
   ]
  },
  {
   "cell_type": "code",
   "execution_count": 40,
   "metadata": {
    "collapsed": false
   },
   "outputs": [
    {
     "data": {
      "text/plain": [
       "<matplotlib.axes._subplots.AxesSubplot at 0x7f683e7a0510>"
      ]
     },
     "execution_count": 40,
     "metadata": {},
     "output_type": "execute_result"
    },
    {
     "data": {
      "image/png": "[encoded data removed]",
      "text/plain": [
       "<matplotlib.figure.Figure at 0x7f684814ec90>"
      ]
     },
     "metadata": {},
     "output_type": "display_data"
    }
   ],
   "source": [
    "import datetime\n",
    "publicadas5=publicadas[publicadas['Año']>datetime.datetime.now().year-5]\n",
    "publicadas5['Grupo'].value_counts()[:10].plot(kind='barh', rot=0)"
   ]
  },
  {
   "cell_type": "markdown",
   "metadata": {},
   "source": [
    "Internacionales y Nacionales"
   ]
  },
  {
   "cell_type": "markdown",
   "metadata": {},
   "source": [
    "The group counts, analogous to the value_counts function above, can be computed\n",
    "    using size. This result is then reshaped into a table with unstack:"
   ]
  },
  {
   "cell_type": "code",
   "execution_count": 41,
   "metadata": {
    "collapsed": false
   },
   "outputs": [
    {
     "data": {
      "text/plain": [
       "<matplotlib.axes._subplots.AxesSubplot at 0x7f683e692790>"
      ]
     },
     "execution_count": 41,
     "metadata": {},
     "output_type": "execute_result"
    },
    {
     "data": {
      "image/png": "[encoded data removed]",
      "text/plain": [
       "<matplotlib.figure.Figure at 0x7f683e779950>"
      ]
     },
     "metadata": {},
     "output_type": "display_data"
    }
   ],
   "source": [
    "tipo5 = np.where(publicadas5['Tipo'].str.contains('Internacional'),'Internacional', 'Nacional')\n",
    "by_group_tipo5 = publicadas5.groupby(['Grupo', tipo5])\n",
    "gt_counts = by_group_tipo5.size().unstack().fillna(0)\n",
    "indexer = gt_counts.sum(1).argsort()\n",
    "count_subset = gt_counts.take(indexer)\n",
    "count_subset[4:].plot(kind='barh', stacked=True)"
   ]
  },
  {
   "cell_type": "markdown",
   "metadata": {},
   "source": [
    "### Clasificación Colciencias"
   ]
  },
  {
   "cell_type": "code",
   "execution_count": 42,
   "metadata": {
    "collapsed": false,
    "scrolled": true
   },
   "outputs": [
    {
     "name": "stdout",
     "output_type": "stream",
     "text": [
      "Total A1+A2:  740\n"
     ]
    }
   ],
   "source": [
    "total=publicadas['Clasificación Colciencias'].value_counts()\n",
    "print \"Total A1+A2: \",total['A1']+total['A2']"
   ]
  },
  {
   "cell_type": "code",
   "execution_count": 43,
   "metadata": {
    "collapsed": false
   },
   "outputs": [
    {
     "data": {
      "text/plain": [
       "<matplotlib.axes._subplots.AxesSubplot at 0x7f683e6b59d0>"
      ]
     },
     "execution_count": 43,
     "metadata": {},
     "output_type": "execute_result"
    },
    {
     "data": {
      "image/png": "[encoded data removed]",
      "text/plain": [
       "<matplotlib.figure.Figure at 0x7f683e6ea790>"
      ]
     },
     "metadata": {},
     "output_type": "display_data"
    }
   ],
   "source": [
    "publicadas['Clasificación Colciencias'].value_counts().plot(kind='barh')"
   ]
  },
  {
   "cell_type": "markdown",
   "metadata": {},
   "source": [
    "#### Últimos cinco  años"
   ]
  },
  {
   "cell_type": "code",
   "execution_count": 44,
   "metadata": {
    "collapsed": false
   },
   "outputs": [
    {
     "name": "stdout",
     "output_type": "stream",
     "text": [
      "Total A1+A2:  208\n"
     ]
    }
   ],
   "source": [
    "total=publicadas5['Clasificación Colciencias'].value_counts()\n",
    "print \"Total A1+A2: \",total['A1']+total['A2']"
   ]
  },
  {
   "cell_type": "code",
   "execution_count": 45,
   "metadata": {
    "collapsed": false
   },
   "outputs": [
    {
     "data": {
      "text/plain": [
       "<matplotlib.axes._subplots.AxesSubplot at 0x7f683e601890>"
      ]
     },
     "execution_count": 45,
     "metadata": {},
     "output_type": "execute_result"
    },
    {
     "data": {
      "image/png": "[encoded data removed]",
      "text/plain": [
       "<matplotlib.figure.Figure at 0x7f684810ded0>"
      ]
     },
     "metadata": {},
     "output_type": "display_data"
    }
   ],
   "source": [
    "publicadas5['Clasificación Colciencias'].value_counts().plot(kind='barh')"
   ]
  },
  {
   "cell_type": "markdown",
   "metadata": {},
   "source": [
    "#### Publicadas último año"
   ]
  },
  {
   "cell_type": "code",
   "execution_count": 46,
   "metadata": {
    "collapsed": false
   },
   "outputs": [
    {
     "data": {
      "text/plain": [
       "3"
      ]
     },
     "execution_count": 46,
     "metadata": {},
     "output_type": "execute_result"
    }
   ],
   "source": [
    "import datetime\n",
    "publicadas1=publicadas[publicadas['Año']>datetime.datetime.now().year-1]\n",
    "len(publicadas1)"
   ]
  },
  {
   "cell_type": "markdown",
   "metadata": {},
   "source": [
    "<h2 id=\"FI\">Factor de impacto</h2>"
   ]
  },
  {
   "cell_type": "markdown",
   "metadata": {},
   "source": [
    "### Factor de impacto (FI) en revistas con FI>0"
   ]
  },
  {
   "cell_type": "markdown",
   "metadata": {},
   "source": [
    "Factor de impacto de los últimos 4 años. Para publicaciones muy antigüas se usa el FI más antigüo"
   ]
  },
  {
   "cell_type": "code",
   "execution_count": 53,
   "metadata": {
    "collapsed": false
   },
   "outputs": [],
   "source": [
    "publicadas['Factor de Impacto']=publicadas['Factor de Impacto'].replace('Desconocido',-1)"
   ]
  },
  {
   "cell_type": "code",
   "execution_count": 55,
   "metadata": {
    "collapsed": false
   },
   "outputs": [
    {
     "data": {
      "text/plain": [
       "<matplotlib.axes._subplots.AxesSubplot at 0x7f683e32b950>"
      ]
     },
     "execution_count": 55,
     "metadata": {},
     "output_type": "execute_result"
    },
    {
     "data": {
      "image/png": "[encoded data removed]",
      "text/plain": [
       "<matplotlib.figure.Figure at 0x7f683e481550>"
      ]
     },
     "metadata": {},
     "output_type": "display_data"
    }
   ],
   "source": [
    "fi=publicadas[['Factor de Impacto']].replace('null',0)\n",
    "fii=fi[fi['Factor de Impacto']>0].reset_index(drop=True)\n",
    "fii.astype('float')['Factor de Impacto'].hist()   "
   ]
  },
  {
   "cell_type": "code",
   "execution_count": 56,
   "metadata": {
    "collapsed": false
   },
   "outputs": [
    {
     "data": {
      "image/png": "[encoded data removed]",
      "text/plain": [
       "<matplotlib.figure.Figure at 0x7f683e321990>"
      ]
     },
     "metadata": {},
     "output_type": "display_data"
    }
   ],
   "source": [
    "for group in ['GFIF','GES','GFAM','GMC','GOF','MS']:\n",
    "    fi=publicadas[publicadas['Grupo'].str.contains(group)][['Factor de Impacto']].replace('null',0)\n",
    "    fii=fi[fi['Factor de Impacto']>0].reset_index(drop=True)\n",
    "    fii.astype('float')['Factor de Impacto'].hist(label=group) \n",
    "    plt.legend(loc='best')"
   ]
  },
  {
   "cell_type": "markdown",
   "metadata": {},
   "source": [
    "### Últimos cinco años"
   ]
  },
  {
   "cell_type": "code",
   "execution_count": 58,
   "metadata": {
    "collapsed": false
   },
   "outputs": [
    {
     "name": "stderr",
     "output_type": "stream",
     "text": [
      "/usr/local/lib/python2.7/dist-packages/IPython/kernel/__main__.py:1: SettingWithCopyWarning: A value is trying to be set on a copy of a slice from a DataFrame.\n",
      "Try using .loc[row_index,col_indexer] = value instead\n",
      "  if __name__ == '__main__':\n"
     ]
    },
    {
     "data": {
      "text/plain": [
       "<matplotlib.axes._subplots.AxesSubplot at 0x7f683e2ab1d0>"
      ]
     },
     "execution_count": 58,
     "metadata": {},
     "output_type": "execute_result"
    },
    {
     "data": {
      "image/png": "[encoded data removed]",
      "text/plain": [
       "<matplotlib.figure.Figure at 0x7f683e26a110>"
      ]
     },
     "metadata": {},
     "output_type": "display_data"
    }
   ],
   "source": [
    "publicadas5['Factor de Impacto']=publicadas5['Factor de Impacto'].replace('Desconocido',-1)\n",
    "fi=publicadas5[['Factor de Impacto']].replace('null',0)\n",
    "fii=fi[fi['Factor de Impacto']>0].reset_index(drop=True)\n",
    "fii.astype('float')['Factor de Impacto'].hist()    "
   ]
  },
  {
   "cell_type": "markdown",
   "metadata": {},
   "source": [
    "Por grupo"
   ]
  },
  {
   "cell_type": "code",
   "execution_count": 59,
   "metadata": {
    "collapsed": false
   },
   "outputs": [
    {
     "data": {
      "image/png": "[encoded data removed]",
      "text/plain": [
       "<matplotlib.figure.Figure at 0x7f684b900990>"
      ]
     },
     "metadata": {},
     "output_type": "display_data"
    }
   ],
   "source": [
    "for group in ['GFIF','GES','GFAM','GMC','GOF','MS']:\n",
    "    fi=publicadas5[publicadas5['Grupo'].str.contains(group)][['Factor de Impacto']].replace('null',0)\n",
    "    fii=fi[fi['Factor de Impacto']>0].reset_index(drop=True)\n",
    "    fii.astype('float')['Factor de Impacto'].hist(label=group) \n",
    "    plt.legend(loc='best')"
   ]
  },
  {
   "cell_type": "code",
   "execution_count": 60,
   "metadata": {
    "collapsed": false
   },
   "outputs": [
    {
     "data": {
      "image/png": "[encoded data removed]",
      "text/plain": [
       "<matplotlib.figure.Figure at 0x7f683e05b290>"
      ]
     },
     "metadata": {},
     "output_type": "display_data"
    }
   ],
   "source": [
    "for group in ['GMC','GFAM']:\n",
    "    fi=publicadas5[publicadas5['Grupo'].str.contains(group)][['Factor de Impacto']].replace('null',0)\n",
    "    fii=fi[fi['Factor de Impacto']>0].reset_index(drop=True)\n",
    "    fii.astype('float')['Factor de Impacto'].hist(label=group) \n",
    "    plt.legend(loc='best')"
   ]
  },
  {
   "cell_type": "code",
   "execution_count": 61,
   "metadata": {
    "collapsed": false
   },
   "outputs": [
    {
     "data": {
      "image/png": "[encoded data removed]",
      "text/plain": [
       "<matplotlib.figure.Figure at 0x7f683ddfe990>"
      ]
     },
     "metadata": {},
     "output_type": "display_data"
    }
   ],
   "source": [
    "for group in ['GMC','GES']:\n",
    "    fi=publicadas5[publicadas5['Grupo'].str.contains(group)][['Factor de Impacto']].replace('null',0)\n",
    "    fii=fi[fi['Factor de Impacto']>0].reset_index(drop=True)\n",
    "    fii.astype('float')['Factor de Impacto'].hist(label=group) \n",
    "    plt.legend(loc='best')"
   ]
  },
  {
   "cell_type": "code",
   "execution_count": 70,
   "metadata": {
    "collapsed": false
   },
   "outputs": [
    {
     "name": "stdout",
     "output_type": "stream",
     "text": [
      "/home/ipython/gssis/pandas/indicadores\n",
      "/home/ipython/gssis\n"
     ]
    },
    {
     "name": "stderr",
     "output_type": "stream",
     "text": [
      "fatal: Paths with -a does not make sense.\n",
      "Permission denied (publickey).\r\n",
      "fatal: Could not read from remote repository.\n",
      "\n",
      "Please make sure you have the correct access rights\n",
      "and the repository exists.\n"
     ]
    }
   ],
   "source": [
    "%%bash\n",
    "pwd\n",
    "cd ../..\n",
    "pwd\n",
    "git commit -a m \"Updated Indicadores.ipynb 2014-11-05\"\n",
    "git push origin master"
   ]
  },
  {
   "cell_type": "code",
   "execution_count": 64,
   "metadata": {
    "collapsed": false
   },
   "outputs": [
    {
     "data": {
      "text/plain": [
       "u'/home/ipython/gssis/pandas/indicadores'"
      ]
     },
     "execution_count": 64,
     "metadata": {},
     "output_type": "execute_result"
    }
   ],
   "source": [
    "pwd"
   ]
  },
  {
   "cell_type": "code",
   "execution_count": null,
   "metadata": {
    "collapsed": true
   },
   "outputs": [],
   "source": []
  }
 ],
 "metadata": {
  "kernelspec": {
   "display_name": "Python 2",
   "language": "python",
   "name": "python2"
  },
  "language_info": {
   "codemirror_mode": {
    "name": "ipython",
    "version": 2
   },
   "file_extension": ".py",
   "mimetype": "text/x-python",
   "name": "python",
   "nbconvert_exporter": "python",
   "pygments_lexer": "ipython2",
   "version": "2.7.9"
  }
 },
 "nbformat": 4,
 "nbformat_minor": 0
}
