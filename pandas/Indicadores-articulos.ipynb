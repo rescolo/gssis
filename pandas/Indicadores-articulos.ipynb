{
 "cells": [
  {
   "cell_type": "raw",
   "metadata": {},
   "source": [
    "<style type=\"text/css\">\n",
    ".input, .output_prompt {\n",
    "display:none !important;\n",
    "}\n",
    "</style>"
   ]
  },
  {
   "cell_type": "markdown",
   "metadata": {
    "slideshow": {
     "slide_type": "skip"
    }
   },
   "source": [
    "# Ayuda slides"
   ]
  },
  {
   "cell_type": "code",
   "execution_count": 1,
   "metadata": {
    "collapsed": false,
    "slideshow": {
     "slide_type": "skip"
    }
   },
   "outputs": [
    {
     "name": "stdout",
     "output_type": "stream",
     "text": [
      "Copy the next code into a first Raw NBconvert Cell to avoid display the commands\n",
      "<style type=\"text/css\">\n",
      ".input, .output_prompt {\n",
      "display:none !important;\n",
      "}\n",
      "</style>\n",
      "\n"
     ]
    }
   ],
   "source": [
    "print '''Copy the next code into a first Raw NBconvert Cell to avoid display the commands\n",
    "<style type=\"text/css\">\n",
    ".input, .output_prompt {\n",
    "display:none !important;\n",
    "}\n",
    "</style>\n",
    "'''"
   ]
  },
  {
   "cell_type": "markdown",
   "metadata": {
    "slideshow": {
     "slide_type": "skip"
    }
   },
   "source": [
    "b to hide presentation\n",
    "Links:\n",
    "* http://stackoverflow.com/questions/20441848/how-do-i-separate-slides-when-exporting-an-ipython-notebook-to-reveal-js    \n",
    "* http://www.slideviper.oquanta.info/tutorial/slideshow_tutorial_slides.html#/7  \n",
    "* https://seqqc.wordpress.com/2015/02/22/make-slides-with-ipython-notebook/\n",
    "* http://hannes-brt.github.io/blog/2013/08/11/ipython-slideshows-will-change-the-way-you-work/\n",
    "\n",
    "The following commands gives the separation of slides and arrows:"
   ]
  },
  {
   "cell_type": "code",
   "execution_count": 2,
   "metadata": {
    "collapsed": false,
    "slideshow": {
     "slide_type": "skip"
    }
   },
   "outputs": [
    {
     "name": "stdout",
     "output_type": "stream",
     "text": [
      "[master 699712e] Slides update\n",
      " 8 files changed, 11209 insertions(+), 9324 deletions(-)\n",
      " rewrite utilities/newcitations.csv (95%)\n"
     ]
    },
    {
     "name": "stderr",
     "output_type": "stream",
     "text": [
      "[NbConvertApp] Using existing profile dir: u'/home/restrepo/.ipython/profile_default'\n",
      "[NbConvertApp] Converting notebook Indicadores-articulos.ipynb to slides\n",
      "[NbConvertApp] Support files will be in Indicadores-articulos_files/\n",
      "[NbConvertApp] Loaded template slides_reveal.tpl\n",
      "[NbConvertApp] Writing 827700 bytes to Indicadores-articulos.slides.html\n",
      "remote: This repository moved. Please use the new location:        \n",
      "remote:   https://github.com/restrepo/gssis.git        \n",
      "To git@github.com:rescolo/gssis.git\n",
      "   35e57e8..699712e  master -> master\n"
     ]
    }
   ],
   "source": [
    "%%bash\n",
    "ipython nbconvert Indicadores-articulos.ipynb --to slides --reveal-prefix \"http://cdn.jsdelivr.net/reveal.js/2.6.2\" && cp Indicadores-articulos.slides.html /var/www/downloads\n",
    "git commit -am \"Slides update\"\n",
    "git push origin master"
   ]
  },
  {
   "cell_type": "markdown",
   "metadata": {
    "slideshow": {
     "slide_type": "skip"
    }
   },
   "source": [
    "The resulting slides are here:\n",
    "\n",
    "http://gfif.udea.edu.co/downloads/Indicadores-articulos.slides.html#/\n",
    "\n",
    "or\n",
    "\n",
    "http://htmlpreview.github.io/?https://github.com/restrepo/gssis/blob/master/pandas/Indicadores-articulos.slides.html#/"
   ]
  },
  {
   "cell_type": "markdown",
   "metadata": {
    "slideshow": {
     "slide_type": "slide"
    }
   },
   "source": [
    "<h1>Indicadores Instituto de Física</h1>\n",
    "<h3>Diego Restrepo</h3>"
   ]
  },
  {
   "cell_type": "markdown",
   "metadata": {
    "slideshow": {
     "slide_type": "skip"
    }
   },
   "source": [
    "http://stackoverflow.com/a/17231361"
   ]
  },
  {
   "cell_type": "markdown",
   "metadata": {
    "slideshow": {
     "slide_type": "slide"
    }
   },
   "source": [
    "<h2 id=\"Articulos\">Artículos</h2>\n",
    "###Metodologia\n",
    "Desde el perfil de [Google Scholar](https://scholar.google.com/citations?sortby=pubdate&hl=en&user=mxSOjTYAAAAJ&view_op=list_works) para el Instituto, se exportan todos los artículos en formato cvs.\n",
    "\n",
    "Con el programa `cvsreader_udea.py` en la carpeta `utilities` del repositorio  de GitHub [`gssis`](https://github.com/restrepo/gssis) se añade la siguiente información:  "
   ]
  },
  {
   "cell_type": "markdown",
   "metadata": {
    "slideshow": {
     "slide_type": "fragment"
    }
   },
   "source": [
    "* El [DOI](http://search.crossref.org), usando el título y el apellido del primer autor de la publicación"
   ]
  },
  {
   "cell_type": "markdown",
   "metadata": {
    "slideshow": {
     "slide_type": "fragment"
    }
   },
   "source": [
    "* Con del DOI se pueden verificar todos los metadatos. En partcular el nombre exacto de la revista. [Ejemplo](http://api.crossref.org/works/10.1103/PhysRevD.93.015012) "
   ]
  },
  {
   "cell_type": "markdown",
   "metadata": {
    "slideshow": {
     "slide_type": "fragment"
    }
   },
   "source": [
    "* Con el nombre exacto de la revista se obtiene la clasificación de Colciencias y su ISSN asociado desde la versión en [google spreadsheet](https://docs.google.com/spreadsheets/d/1umgapW8KOIPqmu_hyjon3n2SXbnbDlmnRnXzjUHcXHE/edit?usp=drive_web) del arhivo en excel del Publindex de Colciencias para revistas homologadas. (Se carga el csv desde el código)"
   ]
  },
  {
   "cell_type": "markdown",
   "metadata": {
    "slideshow": {
     "slide_type": "fragment"
    }
   },
   "source": [
    "* Con el ISSN se obtiene el factor de impacto con: [búsqueda de Google](https://goo.gl/JMHmhS)"
   ]
  },
  {
   "cell_type": "markdown",
   "metadata": {},
   "source": [
    "Citaciones..."
   ]
  },
  {
   "cell_type": "markdown",
   "metadata": {
    "slideshow": {
     "slide_type": "fragment"
    }
   },
   "source": [
    "Finalmente el program extrae el primer autor de la UdeA de la lista de autores y le asocia el Grupo de Investigación correspondiente.\n",
    "\n",
    "El resultado final esta en el [repositorio de GitHub](https://github.com/restrepo/gssis/blob/master/utilities/newcitations.csv)"
   ]
  },
  {
   "cell_type": "markdown",
   "metadata": {
    "slideshow": {
     "slide_type": "slide"
    }
   },
   "source": [
    "##  Análisis de datos"
   ]
  },
  {
   "cell_type": "code",
   "execution_count": 3,
   "metadata": {
    "collapsed": false,
    "slideshow": {
     "slide_type": "skip"
    }
   },
   "outputs": [
    {
     "name": "stdout",
     "output_type": "stream",
     "text": [
      "Populating the interactive namespace from numpy and matplotlib\n"
     ]
    }
   ],
   "source": [
    "%pylab inline\n",
    "pylab.rcParams['figure.figsize'] = (10, 6)"
   ]
  },
  {
   "cell_type": "code",
   "execution_count": 4,
   "metadata": {
    "collapsed": true,
    "slideshow": {
     "slide_type": "skip"
    }
   },
   "outputs": [],
   "source": [
    "import pandas as pd\n",
    "import numpy as np\n",
    "import datetime\n",
    "import re\n",
    "\n",
    "pd.set_option('display.max_rows', 500)\n",
    "pd.set_option('display.max_columns', 500)\n",
    "pd.set_option('display.max_colwidth',500)\n",
    "def read_google_cvs(gss_url=\"http://spreadsheets.google.com\",\\\n",
    "    gss_format=\"csv\",\\\n",
    "    gss_key=\"0AuLa_xuSIEvxdERYSGVQWDBTX1NCN19QMXVpb0lhWXc\",\\\n",
    "    gss_sheet=0,\\\n",
    "    gss_query=\"select B,D,E,F,I where (H contains 'GFIF') order by D desc\",\\\n",
    "    gss_keep_default_na=False\n",
    "    ):\n",
    "    import urllib\n",
    "    \"\"\"\n",
    "    read a google spreadsheet in cvs format and return a pandas DataFrame object.\n",
    "       ....\n",
    "       gss_keep_default_na: (False) Blank values are filled with NaN\n",
    "    \"\"\"\n",
    "    issn_url=\"%s/tq?tqx=out:%s&tq=%s&key=%s&gid=%s\" %(gss_url,\\\n",
    "                                           gss_format,\\\n",
    "                                           gss_query,\\\n",
    "                                           gss_key,\\\n",
    "                                           str(gss_sheet))\n",
    "\n",
    "    gfile=urllib.urlopen(issn_url)\n",
    "    return pd.read_csv(gfile,keep_default_na=gss_keep_default_na)\n",
    "\n",
    "def plainstr(stra):\n",
    "    return stra.replace('á','a').replace('é','e').replace('í','i').\\\n",
    "                replace('ó','o').replace('ú','u').replace('ñ','n')"
   ]
  },
  {
   "cell_type": "code",
   "execution_count": 5,
   "metadata": {
    "collapsed": false,
    "slideshow": {
     "slide_type": "skip"
    }
   },
   "outputs": [
    {
     "data": {
      "text/plain": [
       "Index([u'Year', u'Type', u'Authors', u'Publication', u'Volume', u'Pages', u'ISSN', u'Title', u'Impreso', u'PDF', u'Group', u'DOI', u'Type II', u'Proyect ID', u'Institution Authors', u'Colciencias Clasification', u'Impact Factor', u'Proyecto', u'NPages'], dtype='object')"
      ]
     },
     "execution_count": 5,
     "metadata": {},
     "output_type": "execute_result"
    }
   ],
   "source": [
    "df=pd.read_csv('https://raw.githubusercontent.com/restrepo/gssis/master/utilities/newcitations.csv')\n",
    "df.columns"
   ]
  },
  {
   "cell_type": "code",
   "execution_count": 6,
   "metadata": {
    "collapsed": true,
    "slideshow": {
     "slide_type": "skip"
    }
   },
   "outputs": [],
   "source": [
    "df['Año']=df.Year\n",
    "df['Tipo']=df.Type\n",
    "df['Autor(es)']=df.Authors\n",
    "df['Artículo']=df.Title\n",
    "df['Vol.']=df.Volume\n",
    "df['pág.']=df.Pages\n",
    "df['Revista']=df.Publication\n",
    "df['Grupo']=df.Group\n",
    "df['Clasificación Colciencias']=df['Colciencias Clasification']\n",
    "df['Factor de Impacto']=df['Impact Factor']"
   ]
  },
  {
   "cell_type": "markdown",
   "metadata": {
    "slideshow": {
     "slide_type": "skip"
    }
   },
   "source": [
    "## Including citations...\n",
    "To include in official code cvsreader_udea.py"
   ]
  },
  {
   "cell_type": "code",
   "execution_count": 7,
   "metadata": {
    "collapsed": true,
    "slideshow": {
     "slide_type": "skip"
    }
   },
   "outputs": [],
   "source": [
    "pc=read_google_cvs(gss_key='1yQXdQdzsX9zBeui52bMcnN-JMt87ofHDjA58kwGJsdI',gss_query=\"select *\")\n",
    "df['Cites']=0\n",
    "df['Simple']=df.Title.str.replace(r\"[^a-zA-Z0-9 ]\", \" \").str.lower().str.replace('\\s+','')\n",
    "pc['Simple']=pc.Article.str.replace(r\"[^a-zA-Z0-9 ]\", \" \").str.lower().str.replace('\\s+','')\n",
    "for i in range(df.shape[0]):\n",
    "    mt=pc[pc.Simple.str.match(df.Simple[i])]\n",
    "    if len(mt)>=1:\n",
    "        rmt=mt\n",
    "        if len(mt)>1:\n",
    "            if len(mt[mt.Simple.str.contains(str(df.Volume[i]))])>0: #if 0 keep old match\n",
    "                rmt=mt[mt.Simple.str.contains(str(df.Volume[i]))] #if >1 is a repeated entry\n",
    "        \n",
    "        df['Cites'][i]=rmt.Cites.replace('*','').replace('','0').astype(int).max()"
   ]
  },
  {
   "cell_type": "markdown",
   "metadata": {},
   "source": [
    "Expected 12994 (Feb. 2016)"
   ]
  },
  {
   "cell_type": "code",
   "execution_count": 8,
   "metadata": {
    "collapsed": false
   },
   "outputs": [
    {
     "data": {
      "text/plain": [
       "92"
      ]
     },
     "execution_count": 8,
     "metadata": {},
     "output_type": "execute_result"
    }
   ],
   "source": [
    "df.Cites.sum()"
   ]
  },
  {
   "cell_type": "markdown",
   "metadata": {
    "slideshow": {
     "slide_type": "slide"
    }
   },
   "source": [
    "### Filtramos las publicadas\n",
    "Las que tienen ISSN o el DOI.\n",
    "\n",
    "Se muestran algunos resultados..."
   ]
  },
  {
   "cell_type": "code",
   "execution_count": 9,
   "metadata": {
    "collapsed": false,
    "slideshow": {
     "slide_type": "fragment"
    }
   },
   "outputs": [
    {
     "name": "stderr",
     "output_type": "stream",
     "text": [
      "/usr/local/lib/python2.7/dist-packages/pandas/core/common.py:381: FutureWarning: elementwise comparison failed; returning scalar instead, but in the future will perform elementwise comparison\n",
      "  mask = arr == x\n"
     ]
    },
    {
     "data": {
      "text/html": [
       "<div style=\"max-height:1000px;max-width:1500px;overflow:auto;\">\n",
       "<table border=\"1\" class=\"dataframe\">\n",
       "  <thead>\n",
       "    <tr style=\"text-align: right;\">\n",
       "      <th></th>\n",
       "      <th>Año</th>\n",
       "      <th>Autor(es)</th>\n",
       "      <th>Artículo</th>\n",
       "      <th>Vol.</th>\n",
       "      <th>pág.</th>\n",
       "      <th>ISSN</th>\n",
       "      <th>Revista</th>\n",
       "      <th>Grupo</th>\n",
       "      <th>DOI</th>\n",
       "      <th>Clasificación Colciencias</th>\n",
       "      <th>Factor de Impacto</th>\n",
       "      <th>First_UdeA_Author</th>\n",
       "    </tr>\n",
       "  </thead>\n",
       "  <tbody>\n",
       "    <tr>\n",
       "      <th>34</th>\n",
       "      <td> 2016</td>\n",
       "      <td>                                                Arbeláez, Carolina; Longas, Robinson; Restrepo, Diego; Zapata, Oscar; </td>\n",
       "      <td>                                                                                                            Fermion dark matter from SO (10) GUTs</td>\n",
       "      <td>  93</td>\n",
       "      <td> 13012</td>\n",
       "      <td> 1550-7998</td>\n",
       "      <td>                                 Physical Review D</td>\n",
       "      <td> GFIF: Grupo de Fenomenología de Interacciones Fundamentales</td>\n",
       "      <td>  10.1103/physrevd.93.013012</td>\n",
       "      <td> A1</td>\n",
       "      <td> 4,691</td>\n",
       "      <td> Restrepo Quintero Diego Alejandro</td>\n",
       "    </tr>\n",
       "    <tr>\n",
       "      <th>35</th>\n",
       "      <td> 2015</td>\n",
       "      <td>          Hollyhead, Katherine; Bastian, Nate; Adamo, Angela; Silva-Villa, Esteban; Dale, Jim; Ryon, JE; Gazak, Zack; </td>\n",
       "      <td> Studying the YMC population of M83: how long clusters remain embedded, their interaction with the ISM and implications for GC formation theories</td>\n",
       "      <td> 449</td>\n",
       "      <td>  1106</td>\n",
       "      <td> 0035-8711</td>\n",
       "      <td> Monthly Notices of the Royal Astronomical Society</td>\n",
       "      <td>                   FACOM: Física y Astrofísica Computacional</td>\n",
       "      <td>        10.1093/mnras/stv331</td>\n",
       "      <td> A1</td>\n",
       "      <td> 5,521</td>\n",
       "      <td>               Silva Villa Esteban</td>\n",
       "    </tr>\n",
       "    <tr>\n",
       "      <th>36</th>\n",
       "      <td> 2014</td>\n",
       "      <td> Bastian, N; Adamo, Angela; Schirmer, M; Hollyhead, K; Beletsky, Y; Carraro, G; Davies, B; Gieles, M; Silva-Villa, E; </td>\n",
       "      <td>               The effect of spatial resolution on optical and near-IR studies of stellar clusters: implications for the origin of the red excess</td>\n",
       "      <td> 444</td>\n",
       "      <td>  3829</td>\n",
       "      <td> 0035-8711</td>\n",
       "      <td> Monthly Notices of the Royal Astronomical Society</td>\n",
       "      <td>                   FACOM: Física y Astrofísica Computacional</td>\n",
       "      <td>       10.1093/mnras/stu1695</td>\n",
       "      <td> A1</td>\n",
       "      <td> 5,521</td>\n",
       "      <td>               Silva Villa Esteban</td>\n",
       "    </tr>\n",
       "    <tr>\n",
       "      <th>37</th>\n",
       "      <td> 2015</td>\n",
       "      <td>                                          Niederhofer, Florian; Hilker, Michael; Bastian, Nate; Silva-Villa, Esteban; </td>\n",
       "      <td>                                                                            No evidence for significant age spreads in young massive LMC clusters</td>\n",
       "      <td> 575</td>\n",
       "      <td>    62</td>\n",
       "      <td> 0000-0000</td>\n",
       "      <td>                          Astronomy &amp; Astrophysics</td>\n",
       "      <td>                   FACOM: Física y Astrofísica Computacional</td>\n",
       "      <td> 10.1051/0004-6361/201424455</td>\n",
       "      <td> 00</td>\n",
       "      <td>  -1,0</td>\n",
       "      <td>               Silva Villa Esteban</td>\n",
       "    </tr>\n",
       "    <tr>\n",
       "      <th>38</th>\n",
       "      <td> 2014</td>\n",
       "      <td>                                                                  Ceballos, Jorge A; Giraldo, Marco A; Cossio, Pilar; </td>\n",
       "      <td>                                                                     Effects of a disulfide bridge prior to amyloid formation of the ABRI peptide</td>\n",
       "      <td>   4</td>\n",
       "      <td> 36923</td>\n",
       "      <td> 0000-0000</td>\n",
       "      <td>                                      RSC Advances</td>\n",
       "      <td>                                                   Biofísica</td>\n",
       "      <td>          10.1039/C4RA06034B</td>\n",
       "      <td> 00</td>\n",
       "      <td>  -1,0</td>\n",
       "      <td>          Giraldo Cadavid Marco A.</td>\n",
       "    </tr>\n",
       "  </tbody>\n",
       "</table>\n",
       "</div>"
      ],
      "text/plain": [
       "     Año  \\\n",
       "34  2016   \n",
       "35  2015   \n",
       "36  2014   \n",
       "37  2015   \n",
       "38  2014   \n",
       "\n",
       "                                                                                                                Autor(es)  \\\n",
       "34                                                 Arbeláez, Carolina; Longas, Robinson; Restrepo, Diego; Zapata, Oscar;    \n",
       "35           Hollyhead, Katherine; Bastian, Nate; Adamo, Angela; Silva-Villa, Esteban; Dale, Jim; Ryon, JE; Gazak, Zack;    \n",
       "36  Bastian, N; Adamo, Angela; Schirmer, M; Hollyhead, K; Beletsky, Y; Carraro, G; Davies, B; Gieles, M; Silva-Villa, E;    \n",
       "37                                           Niederhofer, Florian; Hilker, Michael; Bastian, Nate; Silva-Villa, Esteban;    \n",
       "38                                                                   Ceballos, Jorge A; Giraldo, Marco A; Cossio, Pilar;    \n",
       "\n",
       "                                                                                                                                            Artículo  \\\n",
       "34                                                                                                             Fermion dark matter from SO (10) GUTs   \n",
       "35  Studying the YMC population of M83: how long clusters remain embedded, their interaction with the ISM and implications for GC formation theories   \n",
       "36                The effect of spatial resolution on optical and near-IR studies of stellar clusters: implications for the origin of the red excess   \n",
       "37                                                                             No evidence for significant age spreads in young massive LMC clusters   \n",
       "38                                                                      Effects of a disulfide bridge prior to amyloid formation of the ABRI peptide   \n",
       "\n",
       "    Vol.   pág.       ISSN                                            Revista  \\\n",
       "34    93  13012  1550-7998                                  Physical Review D   \n",
       "35   449   1106  0035-8711  Monthly Notices of the Royal Astronomical Society   \n",
       "36   444   3829  0035-8711  Monthly Notices of the Royal Astronomical Society   \n",
       "37   575     62  0000-0000                           Astronomy & Astrophysics   \n",
       "38     4  36923  0000-0000                                       RSC Advances   \n",
       "\n",
       "                                                          Grupo  \\\n",
       "34  GFIF: Grupo de Fenomenología de Interacciones Fundamentales   \n",
       "35                    FACOM: Física y Astrofísica Computacional   \n",
       "36                    FACOM: Física y Astrofísica Computacional   \n",
       "37                    FACOM: Física y Astrofísica Computacional   \n",
       "38                                                    Biofísica   \n",
       "\n",
       "                            DOI Clasificación Colciencias Factor de Impacto  \\\n",
       "34   10.1103/physrevd.93.013012                        A1             4,691   \n",
       "35         10.1093/mnras/stv331                        A1             5,521   \n",
       "36        10.1093/mnras/stu1695                        A1             5,521   \n",
       "37  10.1051/0004-6361/201424455                        00              -1,0   \n",
       "38           10.1039/C4RA06034B                        00              -1,0   \n",
       "\n",
       "                    First_UdeA_Author  \n",
       "34  Restrepo Quintero Diego Alejandro  \n",
       "35                Silva Villa Esteban  \n",
       "36                Silva Villa Esteban  \n",
       "37                Silva Villa Esteban  \n",
       "38           Giraldo Cadavid Marco A.  "
      ]
     },
     "execution_count": 9,
     "metadata": {},
     "output_type": "execute_result"
    }
   ],
   "source": [
    "publicadas=df[~np.logical_and(df['ISSN']=='0000-0000',df['DOI']=='Not DOI')]\n",
    "publicadas=publicadas.reset_index(drop=True)\n",
    "publicadas=publicadas.replace('','Desconocido')\n",
    "publicadas['First_UdeA_Author']=publicadas['Institution Authors'].fillna('NN')\\\n",
    ".str.replace('Mora Ramos Miguel; ','').str.replace(';.*','')\n",
    "\n",
    "#Ejemplo visualización\n",
    "publicadas[['Año','Autor(es)','Artículo','Vol.','pág.','ISSN','Revista','Grupo','DOI','Clasificación Colciencias','Factor de Impacto','First_UdeA_Author']][publicadas['DOI']!='Not DOI'][-5:]"
   ]
  },
  {
   "cell_type": "code",
   "execution_count": 10,
   "metadata": {
    "collapsed": true,
    "slideshow": {
     "slide_type": "slide"
    }
   },
   "outputs": [],
   "source": [
    "publicadas['Factor de Impacto']=publicadas['Factor de Impacto'].replace('Desconocido',-1)\n",
    "publicadas['Factor de Impacto']=publicadas['Factor de Impacto'].str.replace(',','.').astype(float)\n",
    "publicadas['Grupo']=publicadas['Grupo'].fillna('Unknown')"
   ]
  },
  {
   "cell_type": "markdown",
   "metadata": {
    "slideshow": {
     "slide_type": "skip"
    }
   },
   "source": [
    "### Publicada últimos 5 años"
   ]
  },
  {
   "cell_type": "code",
   "execution_count": 11,
   "metadata": {
    "collapsed": true,
    "slideshow": {
     "slide_type": "skip"
    }
   },
   "outputs": [],
   "source": [
    "publicadas5=publicadas[publicadas['Año']>datetime.datetime.now().year-5]"
   ]
  },
  {
   "cell_type": "markdown",
   "metadata": {
    "slideshow": {
     "slide_type": "slide"
    }
   },
   "source": [
    "### Datos a analizar del TOTAL en Google Scholar:"
   ]
  },
  {
   "cell_type": "code",
   "execution_count": 12,
   "metadata": {
    "collapsed": false,
    "slideshow": {
     "slide_type": "fragment"
    }
   },
   "outputs": [
    {
     "data": {
      "text/html": [
       "<div style=\"max-height:1000px;max-width:1500px;overflow:auto;\">\n",
       "<table border=\"1\" class=\"dataframe\">\n",
       "  <thead>\n",
       "    <tr style=\"text-align: right;\">\n",
       "      <th></th>\n",
       "      <th>Publicadas</th>\n",
       "      <th>Publicadas últimos 5 años</th>\n",
       "      <th>TOTAL</th>\n",
       "    </tr>\n",
       "  </thead>\n",
       "  <tbody>\n",
       "    <tr>\n",
       "      <th>0</th>\n",
       "      <td> 39</td>\n",
       "      <td> 37</td>\n",
       "      <td> 44</td>\n",
       "    </tr>\n",
       "  </tbody>\n",
       "</table>\n",
       "</div>"
      ],
      "text/plain": [
       "   Publicadas  Publicadas últimos 5 años  TOTAL\n",
       "0          39                         37     44"
      ]
     },
     "execution_count": 12,
     "metadata": {},
     "output_type": "execute_result"
    }
   ],
   "source": [
    "dfp=pd.DataFrame()\n",
    "dfp.append({'TOTAL':df.shape[0],'Publicadas':publicadas.shape[0],\\\n",
    "            'Publicadas últimos 5 años':publicadas5.shape[0]},ignore_index=True)"
   ]
  },
  {
   "cell_type": "markdown",
   "metadata": {
    "slideshow": {
     "slide_type": "slide"
    }
   },
   "source": [
    "### Preparando la tabla de datos"
   ]
  },
  {
   "cell_type": "markdown",
   "metadata": {
    "slideshow": {
     "slide_type": "slide"
    }
   },
   "source": [
    "## Estudiantes"
   ]
  },
  {
   "cell_type": "code",
   "execution_count": 13,
   "metadata": {
    "collapsed": false,
    "slideshow": {
     "slide_type": "skip"
    }
   },
   "outputs": [],
   "source": [
    "config_inf={'DEBUG':False} #Development mode\n",
    "config_inf['Years']=range(1995,2016)"
   ]
  },
  {
   "cell_type": "code",
   "execution_count": 14,
   "metadata": {
    "collapsed": false,
    "slideshow": {
     "slide_type": "skip"
    }
   },
   "outputs": [
    {
     "data": {
      "text/plain": [
       "Index([u'ASESOR', u'Becado de', u'CODIRECTOR', u'CORREO', u'Cédula', u'Distinción', u'Doble titulación', u'ESTANTE', u'ESTUDIANTE', u'Estado', u'Estado Laboral', u'Fecha de graduación', u'Fecha de ingreso', u'Fecha de sustentación', u'GRUPO', u'INSTITUTO', u'JURADO 1', u'JURADO 2', u'JURADO 3', u'Materias matriculas semestre 2011-1', u'NOMBRE TESIS', u'PROGRAMA', u'Pasantía', u'Proyecto ID', u'SIGNATURA', u'Situación', u'Unnamed: 0'], dtype='object')"
      ]
     },
     "execution_count": 14,
     "metadata": {},
     "output_type": "execute_result"
    }
   ],
   "source": [
    "dfd=read_google_cvs(gss_key=\"0AuLa_xuSIEvxdERYSGVQWDBTX1NCN19QMXVpb0lhWXc\",gss_query=\"select *\",gss_sheet=2)\n",
    "dfd['PROGRAMA']='Doctorado'\n",
    "dfm=read_google_cvs(gss_key=\"0AuLa_xuSIEvxdERYSGVQWDBTX1NCN19QMXVpb0lhWXc\",gss_query=\"select *\",gss_sheet=1)\n",
    "dfm['PROGRAMA']='Maestría'\n",
    "dfe=dfd.append(dfm)\n",
    "dfe.columns"
   ]
  },
  {
   "cell_type": "code",
   "execution_count": 15,
   "metadata": {
    "collapsed": false,
    "slideshow": {
     "slide_type": "skip"
    }
   },
   "outputs": [],
   "source": [
    "dfe['Año de ingreso']=dfe['Fecha de ingreso'].replace('','0').replace('null','0').str.replace('-1','').str.replace('-2','').astype('int')\n",
    "dfe['Año de graduación']=dfe['Fecha de graduación'].replace('','0').replace('null','0').str.replace('-1','').str.replace('-2','').astype('int')#.values\n",
    "#dfe['Año de graduación'].values\n",
    "dfei=dfe[dfe['Año de ingreso']>=config_inf['Years'][0]].reset_index(drop=True)\n",
    "dfeg=dfe[dfe['Año de graduación']>=config_inf['Years'][0]].reset_index(drop=True)"
   ]
  },
  {
   "cell_type": "markdown",
   "metadata": {
    "slideshow": {
     "slide_type": "skip"
    }
   },
   "source": [
    "### Estudiantes admitidos y matriculados"
   ]
  },
  {
   "cell_type": "code",
   "execution_count": 16,
   "metadata": {
    "collapsed": false
   },
   "outputs": [
    {
     "data": {
      "text/plain": [
       "Año de ingreso\n",
       "2016              12\n",
       "2015               8\n",
       "2014              28\n",
       "2013              19\n",
       "2012              14\n",
       "2011              10\n",
       "2010              12\n",
       "2009               8\n",
       "2008              15\n",
       "2007               8\n",
       "2006              18\n",
       "2005              13\n",
       "2004              11\n",
       "2003               3\n",
       "2002               5\n",
       "2001               7\n",
       "2000               2\n",
       "1999               4\n",
       "1998               6\n",
       "1997               3\n",
       "1995               2\n",
       "Name: ASESOR, dtype: int64"
      ]
     },
     "execution_count": 16,
     "metadata": {},
     "output_type": "execute_result"
    }
   ],
   "source": [
    "dfeit=dfei[np.logical_or(dfei['Estado']=='Activo',dfei['Estado']=='Graduado')]\n",
    "dfeit[['Año de ingreso','Estado']]\n",
    "dfei.groupby('Año de ingreso').count()['ASESOR'][::-1]"
   ]
  },
  {
   "cell_type": "markdown",
   "metadata": {},
   "source": [
    "### Artículos con participación de estudiantes"
   ]
  },
  {
   "cell_type": "code",
   "execution_count": 17,
   "metadata": {
    "collapsed": true
   },
   "outputs": [],
   "source": [
    "dfei=dfei[dfei.Estado!='Desertor'].reset_index(drop=True)\n",
    "#Estudiantes\n",
    "student_coauthor=1 #until 2 years after graduation date\n",
    "dfd=pd.Series()\n",
    "art_est=pd.Series()\n",
    "dfd['D']=dfei[dfei.PROGRAMA=='Doctorado'].reset_index(drop=True)\n",
    "dfd['M']=dfei[dfei.PROGRAMA=='Maestría'].reset_index(drop=True)\n",
    "dfd['P']=dfei\n",
    "for k in dfd.keys():\n",
    "    art_est[k]=pd.DataFrame()\n",
    "#phdest=pd.DataFrame()\n",
    "    dfd[k]['Author']=''\n",
    "    for i in range(dfd[k].shape[0]):\n",
    "        est=re.sub('\\s+$','',re.sub('^\\s+','',dfd[k]['ESTUDIANTE'][i])).replace('  ',' ').split(' ')\n",
    "        if len(est)==4:\n",
    "            dfd[k]['Author'][i]='%s, %s' %(plainstr(est[2]),est[0][0])\n",
    "        elif len(est)==3:        \n",
    "            dfd[k]['Author'][i]='%s, %s' %(plainstr(est[1]),est[0][0])\n",
    "        elif len(est)==2:\n",
    "            dfd[k]['Author'][i]='%s, %s' %(plainstr(est[1]),est[0][0])\n",
    "        else:\n",
    "            dfd[k]['Author'][i]='%s, %s' %(plainstr(est[-1]),est[0][0])\n",
    "        #special cases\n",
    "        if dfd[k]['Author'][i]=='Duque, C':\n",
    "            dfd[k]['Author'][i]='Duque, CM'\n",
    "    \n",
    "        ma=publicadas[publicadas['Autor(es)'].str.contains(dfd[k]['Author'][i])]\n",
    "        if ma.shape[0]>0:\n",
    "            ma['Estudiante']=dfd[k]['Author'][i]\n",
    "            ma['Año Graduación']=dfd[k]['Fecha de graduación'][i]\n",
    "            if dfd[k]['Fecha de graduación'][i]!='':\n",
    "                ya=eval(re.sub('-[12]$','',dfd[k]['Fecha de graduación'][i]))+student_coauthor\n",
    "                ma=ma[ma['Año']<=ya]\n",
    "    \n",
    "        art_est[k]=art_est[k].append(ma)\n",
    "        #phdest=phdest.append({'ESTUDIANTE':dfd[k]['ESTUDIANTE'][i],'Autor':dfd['Author'][i],\\\n",
    "        #                        'Fecha de graduación':dfd[k]['Fecha de graduación'][i],\\\n",
    "        #                        'Artículos':ma.shape[0]},ignore_index=True)\n",
    "\n",
    "    #Filter pandas dataframe\n",
    "    #Fill from phd_students.xlsx (see below) to cross check the data\n",
    "    art_est[k]=art_est[k].drop_duplicates().reset_index(True).sort('Año',ascending=False).reset_index(drop=True)\n",
    "    art_est[k]=art_est[k][['Tipo','Artículo','Autor(es)','Año Graduación','Año','Revista','ISSN','Estudiante']]"
   ]
  },
  {
   "cell_type": "code",
   "execution_count": 18,
   "metadata": {
    "collapsed": false
   },
   "outputs": [],
   "source": [
    "autor=pd.Series()\n",
    "autor['Posgrado']=art_est.P.groupby('Año').count().Tipo[::-1]\n",
    "autor['Doctorado']  =art_est.D.groupby('Año').count().Tipo[::-1]\n",
    "autor['Master']=art_est.M.groupby('Año').count().Tipo[::-1]"
   ]
  },
  {
   "cell_type": "code",
   "execution_count": 19,
   "metadata": {
    "collapsed": false
   },
   "outputs": [
    {
     "data": {
      "text/plain": [
       "Año\n",
       "2016    1\n",
       "2015    4\n",
       "2014    2\n",
       "2013    1\n",
       "Name: Tipo, dtype: int64"
      ]
     },
     "execution_count": 19,
     "metadata": {},
     "output_type": "execute_result"
    }
   ],
   "source": [
    "autor.Posgrado.astype(int)"
   ]
  },
  {
   "cell_type": "code",
   "execution_count": 20,
   "metadata": {
    "collapsed": false,
    "slideshow": {
     "slide_type": "skip"
    }
   },
   "outputs": [],
   "source": [
    "t=publicadas['Año'].value_counts()\n",
    "i=publicadas[publicadas.Tipo=='Internacional']['Año'].value_counts()\n",
    "n=publicadas[publicadas.Tipo=='Nacional']['Año'].value_counts()\n",
    "facom=publicadas[publicadas.Grupo.str.contains('FACOM')]['Año'].value_counts()"
   ]
  },
  {
   "cell_type": "code",
   "execution_count": 21,
   "metadata": {
    "collapsed": false,
    "slideshow": {
     "slide_type": "slide"
    }
   },
   "outputs": [
    {
     "data": {
      "text/html": [
       "<div style=\"max-height:1000px;max-width:1500px;overflow:auto;\">\n",
       "<table border=\"1\" class=\"dataframe\">\n",
       "  <thead>\n",
       "    <tr style=\"text-align: right;\">\n",
       "      <th></th>\n",
       "      <th>UdeA_author</th>\n",
       "      <th>articles</th>\n",
       "      <th>autor_doctorado</th>\n",
       "      <th>autor_master</th>\n",
       "      <th>autor_posgrado</th>\n",
       "      <th>facom</th>\n",
       "      <th>first_UdeA_author</th>\n",
       "      <th>isi_o_scopus</th>\n",
       "      <th>nacional</th>\n",
       "      <th>year</th>\n",
       "    </tr>\n",
       "  </thead>\n",
       "  <tbody>\n",
       "    <tr>\n",
       "      <th>0 </th>\n",
       "      <td> 15</td>\n",
       "      <td> 24</td>\n",
       "      <td> 4</td>\n",
       "      <td> 1</td>\n",
       "      <td> 4</td>\n",
       "      <td> 3</td>\n",
       "      <td> 13</td>\n",
       "      <td> 23</td>\n",
       "      <td> 1</td>\n",
       "      <td> 2015</td>\n",
       "    </tr>\n",
       "    <tr>\n",
       "      <th>1 </th>\n",
       "      <td>  5</td>\n",
       "      <td>  7</td>\n",
       "      <td> 0</td>\n",
       "      <td> 2</td>\n",
       "      <td> 2</td>\n",
       "      <td> 2</td>\n",
       "      <td>  5</td>\n",
       "      <td>  6</td>\n",
       "      <td> 1</td>\n",
       "      <td> 2014</td>\n",
       "    </tr>\n",
       "    <tr>\n",
       "      <th>2 </th>\n",
       "      <td>  2</td>\n",
       "      <td>  2</td>\n",
       "      <td> 0</td>\n",
       "      <td> 1</td>\n",
       "      <td> 1</td>\n",
       "      <td> 0</td>\n",
       "      <td>  2</td>\n",
       "      <td>  2</td>\n",
       "      <td> 0</td>\n",
       "      <td> 2013</td>\n",
       "    </tr>\n",
       "    <tr>\n",
       "      <th>3 </th>\n",
       "      <td>  1</td>\n",
       "      <td>  0</td>\n",
       "      <td> 0</td>\n",
       "      <td> 0</td>\n",
       "      <td> 0</td>\n",
       "      <td> 0</td>\n",
       "      <td>  0</td>\n",
       "      <td>  0</td>\n",
       "      <td> 0</td>\n",
       "      <td> 2012</td>\n",
       "    </tr>\n",
       "    <tr>\n",
       "      <th>4 </th>\n",
       "      <td>  1</td>\n",
       "      <td>  0</td>\n",
       "      <td> 0</td>\n",
       "      <td> 0</td>\n",
       "      <td> 0</td>\n",
       "      <td> 0</td>\n",
       "      <td>  0</td>\n",
       "      <td>  0</td>\n",
       "      <td> 0</td>\n",
       "      <td> 2011</td>\n",
       "    </tr>\n",
       "    <tr>\n",
       "      <th>5 </th>\n",
       "      <td>  1</td>\n",
       "      <td>  1</td>\n",
       "      <td> 0</td>\n",
       "      <td> 0</td>\n",
       "      <td> 0</td>\n",
       "      <td> 0</td>\n",
       "      <td>  1</td>\n",
       "      <td>  0</td>\n",
       "      <td> 1</td>\n",
       "      <td> 2010</td>\n",
       "    </tr>\n",
       "    <tr>\n",
       "      <th>6 </th>\n",
       "      <td>  1</td>\n",
       "      <td>  0</td>\n",
       "      <td> 0</td>\n",
       "      <td> 0</td>\n",
       "      <td> 0</td>\n",
       "      <td> 0</td>\n",
       "      <td>  0</td>\n",
       "      <td>  0</td>\n",
       "      <td> 0</td>\n",
       "      <td> 2009</td>\n",
       "    </tr>\n",
       "    <tr>\n",
       "      <th>7 </th>\n",
       "      <td>  1</td>\n",
       "      <td>  0</td>\n",
       "      <td> 0</td>\n",
       "      <td> 0</td>\n",
       "      <td> 0</td>\n",
       "      <td> 0</td>\n",
       "      <td>  0</td>\n",
       "      <td>  0</td>\n",
       "      <td> 0</td>\n",
       "      <td> 2008</td>\n",
       "    </tr>\n",
       "    <tr>\n",
       "      <th>8 </th>\n",
       "      <td>  1</td>\n",
       "      <td>  0</td>\n",
       "      <td> 0</td>\n",
       "      <td> 0</td>\n",
       "      <td> 0</td>\n",
       "      <td> 0</td>\n",
       "      <td>  0</td>\n",
       "      <td>  0</td>\n",
       "      <td> 0</td>\n",
       "      <td> 2007</td>\n",
       "    </tr>\n",
       "    <tr>\n",
       "      <th>9 </th>\n",
       "      <td>  1</td>\n",
       "      <td>  0</td>\n",
       "      <td> 0</td>\n",
       "      <td> 0</td>\n",
       "      <td> 0</td>\n",
       "      <td> 0</td>\n",
       "      <td>  0</td>\n",
       "      <td>  0</td>\n",
       "      <td> 0</td>\n",
       "      <td> 2006</td>\n",
       "    </tr>\n",
       "    <tr>\n",
       "      <th>10</th>\n",
       "      <td>  1</td>\n",
       "      <td>  0</td>\n",
       "      <td> 0</td>\n",
       "      <td> 0</td>\n",
       "      <td> 0</td>\n",
       "      <td> 0</td>\n",
       "      <td>  0</td>\n",
       "      <td>  0</td>\n",
       "      <td> 0</td>\n",
       "      <td> 2005</td>\n",
       "    </tr>\n",
       "    <tr>\n",
       "      <th>11</th>\n",
       "      <td>  1</td>\n",
       "      <td>  0</td>\n",
       "      <td> 0</td>\n",
       "      <td> 0</td>\n",
       "      <td> 0</td>\n",
       "      <td> 0</td>\n",
       "      <td>  0</td>\n",
       "      <td>  0</td>\n",
       "      <td> 0</td>\n",
       "      <td> 2004</td>\n",
       "    </tr>\n",
       "    <tr>\n",
       "      <th>12</th>\n",
       "      <td>  1</td>\n",
       "      <td>  0</td>\n",
       "      <td> 0</td>\n",
       "      <td> 0</td>\n",
       "      <td> 0</td>\n",
       "      <td> 0</td>\n",
       "      <td>  0</td>\n",
       "      <td>  0</td>\n",
       "      <td> 0</td>\n",
       "      <td> 2003</td>\n",
       "    </tr>\n",
       "    <tr>\n",
       "      <th>13</th>\n",
       "      <td>  1</td>\n",
       "      <td>  1</td>\n",
       "      <td> 0</td>\n",
       "      <td> 0</td>\n",
       "      <td> 0</td>\n",
       "      <td> 0</td>\n",
       "      <td>  1</td>\n",
       "      <td>  0</td>\n",
       "      <td> 1</td>\n",
       "      <td> 2002</td>\n",
       "    </tr>\n",
       "    <tr>\n",
       "      <th>14</th>\n",
       "      <td>  1</td>\n",
       "      <td>  0</td>\n",
       "      <td> 0</td>\n",
       "      <td> 0</td>\n",
       "      <td> 0</td>\n",
       "      <td> 0</td>\n",
       "      <td>  0</td>\n",
       "      <td>  0</td>\n",
       "      <td> 0</td>\n",
       "      <td> 2001</td>\n",
       "    </tr>\n",
       "    <tr>\n",
       "      <th>15</th>\n",
       "      <td>  1</td>\n",
       "      <td>  0</td>\n",
       "      <td> 0</td>\n",
       "      <td> 0</td>\n",
       "      <td> 0</td>\n",
       "      <td> 0</td>\n",
       "      <td>  0</td>\n",
       "      <td>  0</td>\n",
       "      <td> 0</td>\n",
       "      <td> 2000</td>\n",
       "    </tr>\n",
       "    <tr>\n",
       "      <th>16</th>\n",
       "      <td>  1</td>\n",
       "      <td>  0</td>\n",
       "      <td> 0</td>\n",
       "      <td> 0</td>\n",
       "      <td> 0</td>\n",
       "      <td> 0</td>\n",
       "      <td>  0</td>\n",
       "      <td>  0</td>\n",
       "      <td> 0</td>\n",
       "      <td> 1999</td>\n",
       "    </tr>\n",
       "    <tr>\n",
       "      <th>17</th>\n",
       "      <td>  1</td>\n",
       "      <td>  0</td>\n",
       "      <td> 0</td>\n",
       "      <td> 0</td>\n",
       "      <td> 0</td>\n",
       "      <td> 0</td>\n",
       "      <td>  0</td>\n",
       "      <td>  0</td>\n",
       "      <td> 0</td>\n",
       "      <td> 1998</td>\n",
       "    </tr>\n",
       "    <tr>\n",
       "      <th>18</th>\n",
       "      <td>  1</td>\n",
       "      <td>  0</td>\n",
       "      <td> 0</td>\n",
       "      <td> 0</td>\n",
       "      <td> 0</td>\n",
       "      <td> 0</td>\n",
       "      <td>  0</td>\n",
       "      <td>  0</td>\n",
       "      <td> 0</td>\n",
       "      <td> 1997</td>\n",
       "    </tr>\n",
       "    <tr>\n",
       "      <th>19</th>\n",
       "      <td>  1</td>\n",
       "      <td>  0</td>\n",
       "      <td> 0</td>\n",
       "      <td> 0</td>\n",
       "      <td> 0</td>\n",
       "      <td> 0</td>\n",
       "      <td>  0</td>\n",
       "      <td>  0</td>\n",
       "      <td> 0</td>\n",
       "      <td> 1996</td>\n",
       "    </tr>\n",
       "    <tr>\n",
       "      <th>20</th>\n",
       "      <td>  1</td>\n",
       "      <td>  0</td>\n",
       "      <td> 0</td>\n",
       "      <td> 0</td>\n",
       "      <td> 0</td>\n",
       "      <td> 0</td>\n",
       "      <td>  0</td>\n",
       "      <td>  0</td>\n",
       "      <td> 0</td>\n",
       "      <td> 1995</td>\n",
       "    </tr>\n",
       "  </tbody>\n",
       "</table>\n",
       "</div>"
      ],
      "text/plain": [
       "    UdeA_author  articles  autor_doctorado  autor_master  autor_posgrado  \\\n",
       "0            15        24                4             1               4   \n",
       "1             5         7                0             2               2   \n",
       "2             2         2                0             1               1   \n",
       "3             1         0                0             0               0   \n",
       "4             1         0                0             0               0   \n",
       "5             1         1                0             0               0   \n",
       "6             1         0                0             0               0   \n",
       "7             1         0                0             0               0   \n",
       "8             1         0                0             0               0   \n",
       "9             1         0                0             0               0   \n",
       "10            1         0                0             0               0   \n",
       "11            1         0                0             0               0   \n",
       "12            1         0                0             0               0   \n",
       "13            1         1                0             0               0   \n",
       "14            1         0                0             0               0   \n",
       "15            1         0                0             0               0   \n",
       "16            1         0                0             0               0   \n",
       "17            1         0                0             0               0   \n",
       "18            1         0                0             0               0   \n",
       "19            1         0                0             0               0   \n",
       "20            1         0                0             0               0   \n",
       "\n",
       "    facom  first_UdeA_author  isi_o_scopus  nacional  year  \n",
       "0       3                 13            23         1  2015  \n",
       "1       2                  5             6         1  2014  \n",
       "2       0                  2             2         0  2013  \n",
       "3       0                  0             0         0  2012  \n",
       "4       0                  0             0         0  2011  \n",
       "5       0                  1             0         1  2010  \n",
       "6       0                  0             0         0  2009  \n",
       "7       0                  0             0         0  2008  \n",
       "8       0                  0             0         0  2007  \n",
       "9       0                  0             0         0  2006  \n",
       "10      0                  0             0         0  2005  \n",
       "11      0                  0             0         0  2004  \n",
       "12      0                  0             0         0  2003  \n",
       "13      0                  1             0         1  2002  \n",
       "14      0                  0             0         0  2001  \n",
       "15      0                  0             0         0  2000  \n",
       "16      0                  0             0         0  1999  \n",
       "17      0                  0             0         0  1998  \n",
       "18      0                  0             0         0  1997  \n",
       "19      0                  0             0         0  1996  \n",
       "20      0                  0             0         0  1995  "
      ]
     },
     "execution_count": 21,
     "metadata": {},
     "output_type": "execute_result"
    }
   ],
   "source": [
    "rdf=pd.DataFrame()\n",
    "for y in range(1995,2016)[::-1]:\n",
    "    year=False\n",
    "    if y in t.keys():\n",
    "        na=t[y]\n",
    "    else: na=0\n",
    "    if y in i.keys():\n",
    "        ni=i[y]\n",
    "    else: ni=0\n",
    "    if y in n.keys():\n",
    "        nn=n[y]\n",
    "    else: nn=0\n",
    "    if y in facom.keys():\n",
    "        nfacom=facom[y]\n",
    "    else: nfacom=0\n",
    "    for k in ['Posgrado','Master','Doctorado']:\n",
    "        if not y in autor[k]:\n",
    "            autor[k][y]=0\n",
    "    #FAudea=publicadas[publicadas['Año']==y]['Institution Authors'].fillna('NN')\\\n",
    "    #.str.replace('Mora Ramos Miguel; ','').str.replace(';.*','').unique().shape[0]\n",
    "    FAudea=publicadas[publicadas['Año']==y]['First_UdeA_Author'].unique().shape[0]\n",
    "    Audea=np.unique(publicadas[publicadas['Año']==y]['Institution Authors'].fillna('NN').str.split('; ').sum()).shape[0]\n",
    "        \n",
    "    rdf=rdf.append({'year':y,'articles':na,'isi_o_scopus':ni,'nacional':nn,'facom':nfacom,\\\n",
    "                   'first_UdeA_author':FAudea,'UdeA_author':Audea,\\\n",
    "                   'autor_posgrado':autor.Posgrado[y],'autor_master':autor.Master[y],\\\n",
    "                    'autor_doctorado':autor.Doctorado[y]},ignore_index=True)\n",
    "\n",
    "rdf"
   ]
  },
  {
   "cell_type": "markdown",
   "metadata": {
    "slideshow": {
     "slide_type": "slide"
    }
   },
   "source": [
    "### Resultado"
   ]
  },
  {
   "cell_type": "markdown",
   "metadata": {
    "slideshow": {
     "slide_type": "fragment"
    }
   },
   "source": [
    "En el plano número de artículos en función del año. Se añade la información de cuantos primeros autores de la UdeA participan en los artículos"
   ]
  },
  {
   "cell_type": "code",
   "execution_count": 22,
   "metadata": {
    "collapsed": false,
    "slideshow": {
     "slide_type": "slide"
    }
   },
   "outputs": [
    {
     "data": {
      "text/plain": [
       "<matplotlib.text.Text at 0x7f2250a21150>"
      ]
     },
     "execution_count": 22,
     "metadata": {},
     "output_type": "execute_result"
    },
    {
     "data": {
      "image/png": "[encoded data removed]",
      "text/plain": [
       "<matplotlib.figure.Figure at 0x7f2253230d50>"
      ]
     },
     "metadata": {},
     "output_type": "display_data"
    }
   ],
   "source": [
    "plt.plot(rdf.year,rdf.articles,label='TOTAL')\n",
    "plt.plot(rdf.year,rdf.articles,'bo',label='First author')\n",
    "plt.plot(rdf.year,rdf.isi_o_scopus,label='ISI o Scopus')\n",
    "plt.plot(rdf.year,rdf.nacional,label='Nacional')\n",
    "plt.plot(rdf.year,rdf.facom,label=u'FACOM')\n",
    "plt.hlines(rdf[rdf.year>2007].isi_o_scopus.mean(),2007,rdf.year.values[0],linestyles='dashed',label='mean(2007)')\n",
    "plt.legend(loc='best')\n",
    "for i in range(len(rdf.year)):\n",
    "    plt.annotate(str(int(rdf.first_UdeA_author[i])),xy=(rdf.year[i],rdf.articles[i]),\\\n",
    "                 horizontalalignment='center',size=15)\n",
    "plt.xlabel('Year',size=20)\n",
    "plt.ylabel('Publication number',size=20)"
   ]
  },
  {
   "cell_type": "markdown",
   "metadata": {
    "slideshow": {
     "slide_type": "slide"
    }
   },
   "source": [
    "O en términos del número de autores diferentes de la UdeA que participan en los artículos"
   ]
  },
  {
   "cell_type": "code",
   "execution_count": 23,
   "metadata": {
    "collapsed": false,
    "slideshow": {
     "slide_type": "slide"
    }
   },
   "outputs": [
    {
     "data": {
      "text/plain": [
       "<matplotlib.text.Text at 0x7f224e52f490>"
      ]
     },
     "execution_count": 23,
     "metadata": {},
     "output_type": "execute_result"
    },
    {
     "data": {
      "image/png": "[encoded data removed]",
      "text/plain": [
       "<matplotlib.figure.Figure at 0x7f2250a36a10>"
      ]
     },
     "metadata": {},
     "output_type": "display_data"
    }
   ],
   "source": [
    "plt.plot(rdf.year,rdf.articles,label='TOTAL')\n",
    "plt.plot(rdf.year,rdf.articles,'bo',label='Author')\n",
    "plt.plot(rdf.year,rdf.isi_o_scopus,label='ISI o Scopus')\n",
    "plt.plot(rdf.year,rdf.nacional,label='Nacional')\n",
    "plt.plot(rdf.year,rdf.facom,label=u'FACOM')\n",
    "plt.hlines(rdf[rdf.year>2007].isi_o_scopus.mean(),2007,rdf.year.values[0],linestyles='dashed',label='mean(2007)')\n",
    "plt.legend(loc='best')\n",
    "for i in range(len(rdf.year)):\n",
    "    plt.annotate(str(int(rdf.UdeA_author[i])),xy=(rdf.year[i],rdf.articles[i]),\\\n",
    "                 horizontalalignment='center',size=15)\n",
    "plt.xlabel('Year',size=20)\n",
    "plt.ylabel('Publication number',size=20)"
   ]
  },
  {
   "cell_type": "code",
   "execution_count": 24,
   "metadata": {
    "collapsed": false,
    "slideshow": {
     "slide_type": "slide"
    }
   },
   "outputs": [
    {
     "data": {
      "text/plain": [
       "<matplotlib.text.Text at 0x7f224e608dd0>"
      ]
     },
     "execution_count": 24,
     "metadata": {},
     "output_type": "execute_result"
    },
    {
     "data": {
      "image/png": "[encoded data removed]",
      "text/plain": [
       "<matplotlib.figure.Figure at 0x7f224e6c9610>"
      ]
     },
     "metadata": {},
     "output_type": "display_data"
    }
   ],
   "source": [
    "plt.plot(rdf.year,rdf.articles,label='TOTAL')\n",
    "plt.plot(rdf.year,rdf.articles,'bo',label='Estudiante')\n",
    "plt.plot(rdf.year,rdf.isi_o_scopus,label='ISI o Scopus')\n",
    "plt.plot(rdf.year,rdf.nacional,label='Nacional')\n",
    "plt.plot(rdf.year,rdf.facom,label=u'FACOM')\n",
    "plt.hlines(rdf[rdf.year>2007].isi_o_scopus.mean(),2007,rdf.year.values[0],linestyles='dashed',label='mean(2007)')\n",
    "plt.legend(loc='best')\n",
    "for i in range(len(rdf.year)):\n",
    "    plt.annotate(str(int(rdf.autor_posgrado[i])),xy=(rdf.year[i],rdf.articles[i]),\\\n",
    "                 horizontalalignment='center',size=15)\n",
    "plt.xlabel('Year',size=20)\n",
    "plt.ylabel('Publication number',size=20)"
   ]
  },
  {
   "cell_type": "markdown",
   "metadata": {
    "slideshow": {
     "slide_type": "slide"
    }
   },
   "source": [
    "2009 Team"
   ]
  },
  {
   "cell_type": "code",
   "execution_count": 25,
   "metadata": {
    "collapsed": false,
    "slideshow": {
     "slide_type": "fragment"
    }
   },
   "outputs": [
    {
     "ename": "NameError",
     "evalue": "name 'values' is not defined",
     "output_type": "error",
     "traceback": [
      "\u001b[1;31m---------------------------------------------------------------------------\u001b[0m",
      "\u001b[1;31mNameError\u001b[0m                                 Traceback (most recent call last)",
      "\u001b[1;32m<ipython-input-25-6e0ceee3d028>\u001b[0m in \u001b[0;36m<module>\u001b[1;34m()\u001b[0m\n\u001b[1;32m----> 1\u001b[1;33m \u001b[0mpd\u001b[0m\u001b[1;33m.\u001b[0m\u001b[0mSeries\u001b[0m\u001b[1;33m(\u001b[0m\u001b[0mdict\u001b[0m\u001b[1;33m(\u001b[0m\u001b[0mzip\u001b[0m\u001b[1;33m(\u001b[0m\u001b[0mrange\u001b[0m\u001b[1;33m(\u001b[0m\u001b[0mvalues\u001b[0m\u001b[1;33m.\u001b[0m\u001b[0mshape\u001b[0m\u001b[1;33m[\u001b[0m\u001b[1;36m0\u001b[0m\u001b[1;33m]\u001b[0m\u001b[1;33m)\u001b[0m\u001b[1;33m,\u001b[0m \u001b[0mvalues\u001b[0m\u001b[1;33m)\u001b[0m\u001b[1;33m)\u001b[0m\u001b[1;33m)\u001b[0m\u001b[1;33m\u001b[0m\u001b[0m\n\u001b[0m",
      "\u001b[1;31mNameError\u001b[0m: name 'values' is not defined"
     ]
    }
   ],
   "source": [
    "pd.Series(dict(zip(range(values.shape[0]), values)))"
   ]
  },
  {
   "cell_type": "markdown",
   "metadata": {
    "slideshow": {
     "slide_type": "slide"
    }
   },
   "source": [
    "###Conclusión\n",
    "Se ha alcanzado un valor asintótico"
   ]
  },
  {
   "cell_type": "markdown",
   "metadata": {
    "slideshow": {
     "slide_type": "skip"
    }
   },
   "source": [
    "H0 lo separó en H 0 y no lo encontró: solución: admita alguna palabras faltantes en títulos largos:\n",
    "\n",
    "* http://dx.doi.org/10.1209/0295-5075/109/39002 "
   ]
  },
  {
   "cell_type": "markdown",
   "metadata": {
    "slideshow": {
     "slide_type": "slide"
    }
   },
   "source": [
    "### Primeros autores UdeA\n",
    "Primeros 15"
   ]
  },
  {
   "cell_type": "markdown",
   "metadata": {
    "slideshow": {
     "slide_type": "fragment"
    }
   },
   "source": [
    "####  Histórico"
   ]
  },
  {
   "cell_type": "code",
   "execution_count": null,
   "metadata": {
    "collapsed": false,
    "slideshow": {
     "slide_type": "fragment"
    }
   },
   "outputs": [],
   "source": [
    "publicadas['First_UdeA_Author'].value_counts()[:15].plot(kind='barh', rot=0, grid=True)\n",
    "plt.xlabel(u'Número de artículos',size=20)"
   ]
  },
  {
   "cell_type": "markdown",
   "metadata": {
    "slideshow": {
     "slide_type": "slide"
    }
   },
   "source": [
    "#### Últimos cinco años"
   ]
  },
  {
   "cell_type": "code",
   "execution_count": null,
   "metadata": {
    "collapsed": false,
    "slideshow": {
     "slide_type": "fragment"
    }
   },
   "outputs": [],
   "source": [
    "publicadas5['First_UdeA_Author'].value_counts()[:15].plot(kind='barh', rot=0, grid=True)#\n",
    "plt.xlabel(u'Número de artículos',size=20)"
   ]
  },
  {
   "cell_type": "markdown",
   "metadata": {
    "slideshow": {
     "slide_type": "slide"
    }
   },
   "source": [
    "###Conclusión\n",
    "Se nota el relevo generacional"
   ]
  },
  {
   "cell_type": "markdown",
   "metadata": {
    "slideshow": {
     "slide_type": "slide"
    }
   },
   "source": [
    "### Por Grupos de Investigación"
   ]
  },
  {
   "cell_type": "markdown",
   "metadata": {
    "slideshow": {
     "slide_type": "skip"
    }
   },
   "source": [
    "Ejemplos plots con `pandas`: http://pandas.pydata.org/pandas-docs/dev/visualization.html"
   ]
  },
  {
   "cell_type": "code",
   "execution_count": null,
   "metadata": {
    "collapsed": false,
    "slideshow": {
     "slide_type": "fragment"
    }
   },
   "outputs": [],
   "source": [
    "publicadas['Grupo'].value_counts()[:10].plot(kind='barh', rot=0, grid=True)\n",
    "plt.xlabel(u'Número de artículos',size=20)"
   ]
  },
  {
   "cell_type": "markdown",
   "metadata": {
    "slideshow": {
     "slide_type": "slide"
    }
   },
   "source": [
    "### Últimos cinco años"
   ]
  },
  {
   "cell_type": "code",
   "execution_count": null,
   "metadata": {
    "collapsed": false,
    "slideshow": {
     "slide_type": "fragment"
    }
   },
   "outputs": [],
   "source": [
    "publicadas5['Grupo'].value_counts()[:10].plot(kind='barh', rot=0,grid=True)\n",
    "plt.xlabel(u'Número de artículos',size=20)"
   ]
  },
  {
   "cell_type": "markdown",
   "metadata": {
    "slideshow": {
     "slide_type": "slide"
    }
   },
   "source": [
    "### Internacionales y Nacionales"
   ]
  },
  {
   "cell_type": "markdown",
   "metadata": {
    "slideshow": {
     "slide_type": "skip"
    }
   },
   "source": [
    "The group counts, analogous to the value_counts function above, can be computed\n",
    "    using size. This result is then reshaped into a table with unstack:"
   ]
  },
  {
   "cell_type": "code",
   "execution_count": null,
   "metadata": {
    "collapsed": false,
    "slideshow": {
     "slide_type": "fragment"
    }
   },
   "outputs": [],
   "source": [
    "tipo5 = np.where(publicadas5['Tipo'].str.contains('Internacional'),'Internacional', 'Nacional')\n",
    "by_group_tipo5 = publicadas5.groupby(['Grupo', tipo5])\n",
    "gt_counts = by_group_tipo5.size().unstack().fillna(0)\n",
    "indexer = gt_counts.sum(1).argsort()\n",
    "count_subset = gt_counts.take(indexer)\n",
    "count_subset[4:].plot(kind='barh', stacked=True,grid=True)\n",
    "plt.xlabel(u'Número de artículos',size=20)"
   ]
  },
  {
   "cell_type": "markdown",
   "metadata": {
    "slideshow": {
     "slide_type": "slide"
    }
   },
   "source": [
    "### Clasificación Colciencias"
   ]
  },
  {
   "cell_type": "code",
   "execution_count": null,
   "metadata": {
    "collapsed": false,
    "scrolled": true,
    "slideshow": {
     "slide_type": "fragment"
    }
   },
   "outputs": [],
   "source": [
    "total=publicadas['Clasificación Colciencias'].value_counts()\n",
    "print \"Total A1+A2: \",total['A1']+total['A2']"
   ]
  },
  {
   "cell_type": "code",
   "execution_count": null,
   "metadata": {
    "collapsed": false,
    "slideshow": {
     "slide_type": "fragment"
    }
   },
   "outputs": [],
   "source": [
    "publicadas['Clasificación Colciencias'].value_counts().plot(kind='barh',grid=True)\n",
    "plt.xlabel(u'Número de artículos',size=20)"
   ]
  },
  {
   "cell_type": "markdown",
   "metadata": {
    "slideshow": {
     "slide_type": "slide"
    }
   },
   "source": [
    "#### Últimos cinco  años"
   ]
  },
  {
   "cell_type": "code",
   "execution_count": null,
   "metadata": {
    "collapsed": false,
    "slideshow": {
     "slide_type": "fragment"
    }
   },
   "outputs": [],
   "source": [
    "total=publicadas5['Clasificación Colciencias'].value_counts()\n",
    "print \"Total A1+A2: \",total['A1']+total['A2']"
   ]
  },
  {
   "cell_type": "code",
   "execution_count": null,
   "metadata": {
    "collapsed": false,
    "slideshow": {
     "slide_type": "fragment"
    }
   },
   "outputs": [],
   "source": [
    "publicadas5['Clasificación Colciencias'].value_counts().plot(kind='barh',grid=True)\n",
    "plt.xlabel(u'Número de artículos',size=20)"
   ]
  },
  {
   "cell_type": "markdown",
   "metadata": {
    "slideshow": {
     "slide_type": "skip"
    }
   },
   "source": [
    "#### Publicadas último año"
   ]
  },
  {
   "cell_type": "code",
   "execution_count": null,
   "metadata": {
    "collapsed": false,
    "slideshow": {
     "slide_type": "skip"
    }
   },
   "outputs": [],
   "source": [
    "import datetime\n",
    "publicadas1=publicadas[publicadas['Año']>datetime.datetime.now().year-1]\n",
    "len(publicadas1)"
   ]
  },
  {
   "cell_type": "markdown",
   "metadata": {
    "slideshow": {
     "slide_type": "slide"
    }
   },
   "source": [
    "<h2 id=\"FI\">Factor de impacto</h2>\n",
    "### Factor de impacto (FI) en revistas con FI>0\n",
    "Factor de impacto de los últimos 4 años. Para publicaciones muy antigüas se usa el FI más antigüo"
   ]
  },
  {
   "cell_type": "code",
   "execution_count": null,
   "metadata": {
    "collapsed": false,
    "slideshow": {
     "slide_type": "fragment"
    }
   },
   "outputs": [],
   "source": [
    "fi=publicadas[['Factor de Impacto']].replace('null',0)\n",
    "fii=fi[fi['Factor de Impacto']>0].reset_index(drop=True)\n",
    "fii.astype('float')['Factor de Impacto'].hist()\n",
    "plt.ylabel(u'Número de artículos',size=20)\n",
    "plt.xlabel(u'Factor de impacto',size=20)"
   ]
  },
  {
   "cell_type": "code",
   "execution_count": null,
   "metadata": {
    "collapsed": false,
    "slideshow": {
     "slide_type": "slide"
    }
   },
   "outputs": [],
   "source": [
    "for group in ['GFIF','GES','GFAM','GMC','GOF','MS','FACOM']:\n",
    "    fi=publicadas[publicadas['Grupo'].str.contains(group)][['Factor de Impacto']].replace('null',0)\n",
    "    fii=fi[fi['Factor de Impacto']>0].reset_index(drop=True)\n",
    "    fii.astype('float')['Factor de Impacto'].hist(label=group) \n",
    "    plt.legend(loc='best')\n",
    "    plt.ylabel(u'Número de artículos',size=20)\n",
    "    plt.xlabel(u'Factor de impacto',size=20)"
   ]
  },
  {
   "cell_type": "markdown",
   "metadata": {
    "slideshow": {
     "slide_type": "slide"
    }
   },
   "source": [
    "### Últimos cinco años"
   ]
  },
  {
   "cell_type": "code",
   "execution_count": null,
   "metadata": {
    "collapsed": false,
    "slideshow": {
     "slide_type": "fragment"
    }
   },
   "outputs": [],
   "source": [
    "publicadas5['Factor de Impacto']=publicadas5['Factor de Impacto'].replace('Desconocido',-1)\n",
    "fi=publicadas5[['Factor de Impacto']].replace('null',0)\n",
    "fii=fi[fi['Factor de Impacto']>0].reset_index(drop=True)\n",
    "fii.astype('float')['Factor de Impacto'].hist()\n",
    "plt.ylabel(u'Número de artículos',size=20)\n",
    "plt.xlabel(u'Factor de impacto',size=20)"
   ]
  },
  {
   "cell_type": "code",
   "execution_count": null,
   "metadata": {
    "collapsed": false,
    "slideshow": {
     "slide_type": "slide"
    }
   },
   "outputs": [],
   "source": [
    "for group in ['GFIF','GES','GFAM','GMC','GOF','MS','FACOM']:\n",
    "    fi=publicadas5[publicadas5['Grupo'].str.contains(group)][['Factor de Impacto']].replace('null',0)\n",
    "    fii=fi[fi['Factor de Impacto']>0].reset_index(drop=True)\n",
    "    fii.astype('float')['Factor de Impacto'].hist(label=group) \n",
    "    plt.legend(loc='best')\n",
    "    plt.ylabel(u'Número de artículos',size=20)\n",
    "    plt.xlabel(u'Factor de impacto',size=20)"
   ]
  },
  {
   "cell_type": "code",
   "execution_count": null,
   "metadata": {
    "collapsed": false,
    "slideshow": {
     "slide_type": "slide"
    }
   },
   "outputs": [],
   "source": [
    "for group in ['GMC','GFAM']:\n",
    "    fi=publicadas5[publicadas5['Grupo'].str.contains(group)][['Factor de Impacto']].replace('null',0)\n",
    "    fii=fi[fi['Factor de Impacto']>0].reset_index(drop=True)\n",
    "    fii.astype('float')['Factor de Impacto'].hist(label=group) \n",
    "    plt.legend(loc='best')\n",
    "    plt.ylabel(u'Número de artículos',size=20)\n",
    "    plt.xlabel(u'Factor de impacto',size=20)"
   ]
  },
  {
   "cell_type": "code",
   "execution_count": null,
   "metadata": {
    "collapsed": false,
    "slideshow": {
     "slide_type": "slide"
    }
   },
   "outputs": [],
   "source": [
    "for group in ['GMC','GES']:\n",
    "    fi=publicadas5[publicadas5['Grupo'].str.contains(group)][['Factor de Impacto']].replace('null',0)\n",
    "    fii=fi[fi['Factor de Impacto']>0].reset_index(drop=True)\n",
    "    fii.astype('float')['Factor de Impacto'].hist(label=group) \n",
    "    plt.legend(loc='best')\n",
    "    plt.ylabel(u'Número de artículos',size=20)\n",
    "    plt.xlabel(u'Factor de impacto',size=20)"
   ]
  },
  {
   "cell_type": "code",
   "execution_count": null,
   "metadata": {
    "collapsed": false,
    "slideshow": {
     "slide_type": "skip"
    }
   },
   "outputs": [],
   "source": [
    "#0120-2650 revista colombiana de Fisica\n",
    "#Physical Review D -> Jose David\n",
    "#10.1038/nature09084\n",
    "publicadas[publicadas['Grupo']=='Unknown'].sort('Year').shape"
   ]
  },
  {
   "cell_type": "code",
   "execution_count": null,
   "metadata": {
    "collapsed": false,
    "slideshow": {
     "slide_type": "skip"
    }
   },
   "outputs": [],
   "source": [
    "df[np.logical_and(df.DOI=='Not DOI',df.ISSN=='0000-0000')].shape"
   ]
  }
 ],
 "metadata": {
  "celltoolbar": "Slideshow",
  "kernelspec": {
   "display_name": "Python 2",
   "language": "python",
   "name": "python2"
  },
  "language_info": {
   "codemirror_mode": {
    "name": "ipython",
    "version": 2
   },
   "file_extension": ".py",
   "mimetype": "text/x-python",
   "name": "python",
   "nbconvert_exporter": "python",
   "pygments_lexer": "ipython2",
   "version": "2.7.9"
  }
 },
 "nbformat": 4,
 "nbformat_minor": 0
}
